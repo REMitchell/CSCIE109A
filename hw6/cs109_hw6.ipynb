{
 "cells": [
  {
   "cell_type": "markdown",
   "metadata": {},
   "source": [
    "# CS 109A/STAT 121A/AC 209A/CSCI E-109A: Homework 6\n",
    "# Reg-Logistic Regression, ROC, and Data Imputation\n",
    "\n",
    "**Harvard University**<br/>\n",
    "**Fall 2017**<br/>\n",
    "**Instructors**: Pavlos Protopapas, Kevin Rader, Rahul Dave, Margo Levine\n",
    "\n",
    "---\n",
    "\n",
    "### INSTRUCTIONS\n",
    "\n",
    "- To submit your assignment follow the instructions given in canvas.\n",
    "- Restart the kernel and run the whole notebook again before you submit. \n",
    "- Do not include your name(s) in the notebook if you are submitting as a group. \n",
    "- If you submit individually and you have worked with someone, please include the name of your [one] partner below. \n",
    "\n",
    "---"
   ]
  },
  {
   "cell_type": "markdown",
   "metadata": {},
   "source": [
    "Your partner's name (if you submit separately): Scott Shaffer \n",
    "\n",
    "Enrollment Status (109A, 121A, 209A, or E109A): 109A"
   ]
  },
  {
   "cell_type": "markdown",
   "metadata": {},
   "source": [
    "Import libraries:"
   ]
  },
  {
   "cell_type": "code",
   "execution_count": 9,
   "metadata": {
    "collapsed": true
   },
   "outputs": [],
   "source": [
    "import numpy as np\n",
    "import pandas as pd\n",
    "import matplotlib\n",
    "import matplotlib.pyplot as plt\n",
    "from sklearn.linear_model import LogisticRegressionCV\n",
    "import sklearn.metrics as metrics\n",
    "from sklearn.preprocessing import PolynomialFeatures\n",
    "from sklearn.discriminant_analysis import LinearDiscriminantAnalysis\n",
    "from sklearn.discriminant_analysis import QuadraticDiscriminantAnalysis\n",
    "from sklearn.neighbors import KNeighborsClassifier\n",
    "from sklearn.tree import DecisionTreeClassifier\n",
    "from sklearn.model_selection import cross_val_score\n",
    "from sklearn.metrics import accuracy_score\n",
    "from sklearn.metrics import confusion_matrix\n",
    "\n",
    "from sklearn.tree import export_graphviz\n",
    "from IPython.display import Image\n",
    "from IPython.display import display, Math, Latex\n",
    "%matplotlib inline"
   ]
  },
  {
   "cell_type": "markdown",
   "metadata": {},
   "source": [
    "## Automated Breast Cancer Detection\n",
    "\n",
    "In this homework, we will consider the problem of early breast cancer detection from X-ray images. Specifically, given a candidate region of interest (ROI) from an X-ray image of a patient's breast, the goal is to predict if the region corresponds to a malignant tumor (label 1) or is normal (label 0). The training and test data sets for this problem is provided in the file `hw6_dataset.csv`. Each row in these files corresponds to a ROI in a patient's X-ray, with columns 1-117 containing features computed using standard image processing algorithms. The last column contains the class label, and is based on a radiologist's opinion or a biopsy. This data was obtained from the KDD Cup 2008 challenge.\n",
    "\n",
    "The data set contain a total of 69,098 candidate ROIs, of which only 409 are malignant, while the remaining are all normal. \n",
    "\n",
    "*Note*: be careful of reading/treating column names and row names in this data set."
   ]
  },
  {
   "cell_type": "markdown",
   "metadata": {},
   "source": [
    "## Question 1: Beyond Classification Accuracy\n",
    "\n",
    "\n",
    "0.  Split the data set into a training set and a testing set.  The training set should be 75% of the original data set, and the testing set 25%.  Use `np.random.seed(9001)`.\n",
    "\n",
    "1. Fit a logistic regression classifier to the training set and report the  accuracy of the classifier on the test set. You should use $L_2$ regularization in logistic regression, with the regularization parameter tuned using cross-validation. \n",
    "    1. How does the fitted model compare with a classifier that predicts 'normal' (label 0) on all patients? \n",
    "    2. Do you think the difference in the classification accuracies are large enough to declare logistic regression as a better classifier than the all 0's classifier? Why or why not?\n",
    "    \n",
    "For applications with imbalanced class labels, in this case when there are many more healthy subjects ($Y=0$) than those with cancer ($Y=1$), the classification accuracy may not be the best metric to evaluate a classifier's performance. As an alternative, we could analyze the confusion table for the classifier. \n",
    "\n",
    "<ol start=\"3\">\n",
    "<li> Compute the confusion table for both the fitted classifier and the classifier that predicts all 0's.</li>\n",
    "<li> Using the entries of the confusion table compute the *true positive rate* and the *true negative rate* for the two classifiers. Explain what these evaluation metrics mean for the specific task of cancer detection. Based on the observed metrics, comment on whether the fitted model is better than the all 0's classifier.</li>\n",
    "<li> What is the *false positive rate* of the fitted classifier, and how is it related to its true positive and true negative rate? Why is a classifier with high false positive rate undesirable for a cancer detection task?</li>\n",
    "</ol>\n",
    "*Hint:* You may use the `metrics.confusion_matrix` function to compute the confusion matrix for a classification model."
   ]
  },
  {
   "cell_type": "code",
   "execution_count": 2,
   "metadata": {},
   "outputs": [
    {
     "name": "stdout",
     "output_type": "stream",
     "text": [
      "0.0    68688\n",
      "1.0      409\n",
      "Name: 0.000000000000000000e+00, dtype: int64\n"
     ]
    }
   ],
   "source": [
    "np.random.seed(9001)\n",
    "df = pd.read_csv('./data/hw6_dataset.csv')\n",
    "\n",
    "#  How (im)balanced is the data?\n",
    "print(df['0.000000000000000000e+00'].value_counts())\n",
    "\n",
    "msk = np.random.rand(len(df)) < 0.75\n",
    "data_train = df[msk]\n",
    "data_test = df[~msk]\n",
    "\n",
    "ytrain = data_train.iloc[:,-1]\n",
    "Xtrain = data_train.drop(data_test.columns[len(data_test.columns)-1], axis=1)\n",
    "\n",
    "ytest = data_test.iloc[:,-1]\n",
    "Xtest = data_test.drop(data_test.columns[len(data_test.columns)-1], axis=1)\n"
   ]
  },
  {
   "cell_type": "code",
   "execution_count": 3,
   "metadata": {},
   "outputs": [
    {
     "name": "stdout",
     "output_type": "stream",
     "text": [
      "0.995084269663\n",
      "17088\n",
      "104\n",
      "Percent non-zero: \n",
      "0.9939138576779026\n"
     ]
    }
   ],
   "source": [
    "logregcv = LogisticRegressionCV(penalty='l2')\n",
    "logregcv.fit(Xtrain, ytrain)\n",
    "\n",
    "print(logregcv.score(Xtest, ytest))\n",
    "\n",
    "print(len(ytest))\n",
    "all_values = len(ytest)\n",
    "positive_values = np.count_nonzero(ytest)\n",
    "print(np.count_nonzero(ytest))\n",
    "print(\"Percent non-zero: \")\n",
    "print(1.0-(positive_values/all_values))\n"
   ]
  },
  {
   "cell_type": "code",
   "execution_count": 4,
   "metadata": {},
   "outputs": [
    {
     "name": "stdout",
     "output_type": "stream",
     "text": [
      "Cancer cases predicted:\n",
      "36\n",
      "Actual cancer cases:\n",
      "104\n",
      "Confusion Matrix:\n",
      "[[16976     8]\n",
      " [   76    28]]\n",
      "\n",
      "True Positive Rate:\n",
      "0.269230769231\n",
      "\n",
      "True Negative Rate:\n",
      "0.999528968441\n",
      "\n",
      "False Positive Rate:\n",
      "0.000471031559114\n"
     ]
    }
   ],
   "source": [
    "from sklearn.metrics import confusion_matrix\n",
    "\n",
    "test_preds = logregcv.predict(Xtest)\n",
    "print(\"Cancer cases predicted:\")\n",
    "print(np.count_nonzero(test_preds))\n",
    "print(\"Actual cancer cases:\")\n",
    "print(positive_values)\n",
    "\n",
    "print(\"Confusion Matrix:\")\n",
    "C = confusion_matrix(ytest, test_preds, labels=None)\n",
    "print(C)\n",
    "\n",
    "# From sklearn documentation: \n",
    "# the count of true negatives is C_{0,0}, false negatives is C_{1,0}, \n",
    "# true positives is C_{1,1} and false positives is C_{0,1}.\n",
    "\n",
    "# Sensitivity or TPR = TP / P = TP / (TP + FN)\n",
    "print(\"\\nTrue Positive Rate:\")\n",
    "print(C[1][1] / (C[1][1] + C[1][0]))\n",
    "\n",
    "# Specificity or TNR = TN / N = TN / (TN + FP)\n",
    "print(\"\\nTrue Negative Rate:\")\n",
    "print(C[0][0] / (C[0][0] + C[0][1]))\n",
    "\n",
    "# FPR = FP / N = FP / (FP + TN)\n",
    "print(\"\\nFalse Positive Rate:\")\n",
    "print(C[0][1] / (C[0][1] + C[0][0]))\n"
   ]
  },
  {
   "cell_type": "markdown",
   "metadata": {},
   "source": [
    "#### Q: How does the fitted model compare with a classifier that predicts 'normal' (label 0) on all patients?\n",
    "\n",
    "The accuracy of the fitted model using logistic regression (0.9954) is just marginally better than the accuracy of the all 0's classifier (0.9938).  Both exhibit almost near perfect accuracy (1.0), though, this is not surprising given the highly imbalanced nature of the data set (68689 - 0 and 409 - 1 for the original data set), just predict the most common response, in this case, 0.\n",
    "\n",
    "#### Q: Do you think the difference in the classification accuracies are large enough to declare logistic regression as a better classifier than the all 0's classifier? Why or why not? \n",
    "\n",
    "Based on the classification accuracy metric alone, we don't think the difference in classification accuracies (0.2%) is large enough to affirm logistic regression as the better classifier.\n",
    "\n",
    "#### Q: Explain what these evaluation metrics (true positive rate and the true negative rate) mean for the specific task of cancer detection. \n",
    "\n",
    "The true positive rate, also known as Sensitivity, is the ability of a test to correctly diagnose patients who have a disease (malignant tumor), given they have the disease:\n",
    "\n",
    "$$\\frac{True~Positive}{(True~Positive + False~Negative)}$$\n",
    "\n",
    "The true negative rate, also known as Specificity, is the ability of the test to correctly diagnose patients who don’t have the disease (malignant tumor), given they do not have the disease:\n",
    "\n",
    "$$\\frac{True~Negative}{(True~Negative + False~Positive)}$$\n",
    "\n",
    "It's worth noting that while sensitivity and specificity are easy to measure, they're not very useful in clinical practice since a clinician doesn't know if a given patient has the disease in question or not.  This is the reason why the clinician performs the diagnostic test in the first place. Instead, the clinician wants to know, given the test result, how likely is it that the patient has the disease, this is known as the positive predictive value (ppv).\n",
    "\n",
    "#### Q: Based on the observed metrics, comment on whether the fitted model is better than the all 0's classifier.\n",
    "\n",
    "A different picture emerges when we compare the confusion matrices, true positive rates, and true negative rates of the two classifiers.  When making comparisons, the fitted logistic regression classifier is clearly the superior model, based on comparing the true positive rates: 27% for the logistic regression classifier vs 0% for the all 0's classifier. Given that we're trying to identify a malignant tumor, a potentially fatal condition, the all 0's classifier will never predict a malignant tumor, making it a totally ineffective model.  \n",
    "\n",
    "The true negative rates for both classifiers are almost equivalent, at or very near to 100%: 99.96% for the fitted logistic regression classifier and 100% for the all 0's classifier.  However, for such a serious condition, we'd rather have a higher true positive rates at the expense of a lower true negative rates.  While there's definitely room for improvement in the logistic regression classifier's true positive rate, anything is better than the all 0's classifier true positive rate of 0%!\n",
    "\n",
    "#### Q: What is the *false positive rate* of the fitted classifier, and how is it related to its true positive and true negative rate? Why is a classifier with high false positive rate undesirable for a cancer detection task?\n",
    "\n",
    "False Positive Rate is the rate of false positives (do not have cancer, but the test is positive) out of all of the \"actual negatives\" -- so true negatives plus false positives. This can be written as FP/(TN+FP)\n",
    "\n",
    "$$\\frac{False~Positive}{(False~Positive + True~Negative)}$$\n",
    "\n",
    "The True Negative Rate is the rate of true negatives (people who do not have cancer, and the test is negative) over all of the actual negatives. This is equal to TN/(TN+FP), or 1 - False Positive Rate (described above)\n",
    "\n",
    "$$ False~Positive~Rate = 1 - True~Negative~Rate$$\n",
    "\n",
    "The True Positive Rate is the true positives over all the actual positives (people with cancer), so False Negatives + True Positives. The relationship between TPR and FPR/TNR is dependent on the classification model.\n",
    "\n",
    "#### Q: Why is a classifier with high false positive rate undesirable for a cancer detection task?\n",
    "\n",
    "A classifier with high false positive rate could be viewed as undesirable for a cancer detection task in the context that the patient who doesn't really have the disease (malignant tumor) will most likely undergo additional unnessary, and possibly invasive, tests/procedures and will feel stressed thinking they have the disease when they don't.\n",
    "\n",
    "We view a high false negative rate as even more undesirable than a high false positive rate in the context of cancer detection since the mistake of not detecting cancer when it's present can have extreme negative consequences for the patient's mortality.\n",
    "\n"
   ]
  },
  {
   "cell_type": "markdown",
   "metadata": {},
   "source": [
    "## Question 2: ROC Analysis\n",
    "\n",
    "Another powerful diagnostic tool for class-imbalanced classification tasks is the Receiver Operating Characteristic (ROC) curve. Notice that the default logistic regression classifier in `sklearn` classifies a data point by thresholding the predicted class probability $\\hat{P}(Y=1)$ at 0.5. By using a different threshold, we can adjust the trade-off between the true positive rate (TPR) and false positive rate (FPR) of the classifier. The ROC curve allows us to visualize this trade-off across all possible thresholds.\n",
    "\n",
    "\n",
    "1. Display the ROC curve for the fitted classifier on the *test set*. In the same plot, also display the ROC curve for the all 0's classifier. How do the two curves compare?\n",
    "\n",
    "2.  Compute the highest TPR that can be achieved by the classifier at each of the following FPR's, and the thresholds at which they are achieved. Based on your results, comment on how the threshold influences a classifier's FPR.\n",
    "    - FPR = 0\n",
    "    - FPR = 0.1\n",
    "    - FPR = 0.5\n",
    "    - FPR = 0.9\n",
    "- Suppose a clinician told you that diagnosing a cancer patient as normal is *twice* as critical an error as diagnosing a normal patient as having cancer. Based on this information, what threshold would you recommend the clinician to use? What is the TPR and FPR of the classifier at this threshold? \n",
    "\n",
    "- Compute the area under the ROC curve (AUC) for both the fitted classifier and the all 0's classifier. How does the difference in the AUCs of the two classifiers compare with the difference between their classification accuracies in Question 1, Part 2(A)? \n",
    "\n",
    "*Hint:* You may use the `metrics.roc_curve` function to compute the ROC curve for a classification model and the `metrics.roc_auc_score` function to compute the AUC for the model."
   ]
  },
  {
   "cell_type": "code",
   "execution_count": 46,
   "metadata": {},
   "outputs": [
    {
     "data": {
      "image/png": "[encoded data removed]",
      "text/plain": [
       "<matplotlib.figure.Figure at 0x1066aeeb8>"
      ]
     },
     "metadata": {},
     "output_type": "display_data"
    }
   ],
   "source": [
    "from sklearn.metrics import roc_curve\n",
    "from sklearn.metrics import roc_auc_score\n",
    "\n",
    "# function to plot ROC curve from true values and model predictions\n",
    "def plotROC(ytrue, ypreds):\n",
    "    fpr, tpr, thresholds = roc_curve(ytrue, ypreds)\n",
    "    plt.plot(fpr, tpr)\n",
    "\n",
    "test_scores = logregcv.predict_proba(Xtest)[:,1]\n",
    "\n",
    "# Get an array of zeros to model \"always choose 0\" prediction\n",
    "yzeros = np.zeros(len(ytest))\n",
    "plt.figure(figsize = (16, 12))\n",
    "\n",
    "# Plot ROCs for actual test outputs and all zeros\n",
    "plotROC(ytest, test_scores)\n",
    "plotROC(ytest, yzeros)\n",
    "plt.title('ROC Curves For Logistic Regression Classifier Using All Predictors (light blue) \\n and All 0\\'s Classifier (dashed)', fontsize = 15)\n",
    "plt.xlabel('False Positive Rate')\n",
    "plt.ylabel('True Positive Rate')\n",
    "#plt.txt(loc = 'best', text = roc_auc_score(ytest, test_scores))\n",
    "plt.text(0.95, 0.01, 'Logistic Regression Classifier AUC = %2.2f \\n All 0\\'s Classifier AUC = %s' \\\n",
    "         % (roc_auc_score(ytest, test_scores), roc_auc_score(ytest, yzeros)),\n",
    "        verticalalignment = 'bottom', \n",
    "         horizontalalignment = 'right',\n",
    "         color = 'blue', \n",
    "         fontsize = 15)\n",
    "plt.plot([0, 1], [0, 1], 'k--')\n",
    "plt.show()\n"
   ]
  },
  {
   "cell_type": "code",
   "execution_count": 5,
   "metadata": {},
   "outputs": [
    {
     "name": "stdout",
     "output_type": "stream",
     "text": [
      "\n",
      "FPR Threshold:            0.0\n",
      "False Positive Rate:      5.88789448893e-05\n",
      "True Positive Rate:       0.0\n",
      "Predicted Class\n",
      "Probability Threshold:    0.999904808579\n",
      "Index:                    1\n",
      "\n",
      "FPR Threshold:            0.1\n",
      "False Positive Rate:      0.10633537447\n",
      "True Positive Rate:       0.807692307692\n",
      "Predicted Class\n",
      "Probability Threshold:    0.00566066055547\n",
      "Index:                    113\n",
      "\n",
      "FPR Threshold:            0.5\n",
      "False Positive Rate:      0.537976919454\n",
      "True Positive Rate:       0.961538461538\n",
      "Predicted Class\n",
      "Probability Threshold:    0.000152379283602\n",
      "Index:                    147\n",
      "\n",
      "FPR Threshold:            0.9\n",
      "False Positive Rate:      0.987635421573\n",
      "True Positive Rate:       0.990384615385\n",
      "Predicted Class\n",
      "Probability Threshold:    6.7004874287e-09\n",
      "Index:                    157\n"
     ]
    }
   ],
   "source": [
    "false_positive_rate, true_positive_rate, thresholds = roc_curve(ytest, logregcv.predict_proba(Xtest)[:,1])\n",
    "\n",
    "\n",
    "#  Compute the highest TPR that can be achieved by the classifier at each \n",
    "#  of the following FPRs, and note the thresholds at which they are achieved. \n",
    "FPRS = [0.0, 0.1, 0.5, 0.9]\n",
    "#  Iterate through specified FPR thresholds\n",
    "for FPR in FPRS:\n",
    "    #  Iterate through false positive rate object for the \n",
    "    #  fitted logistic regression classifier.\n",
    "    for ind, fpr1 in enumerate(false_positive_rate):\n",
    "        # Do we cross the pecified FPR threshold?\n",
    "        if fpr1 - FPR > 0:\n",
    "            # Yes, then grab values\n",
    "            print (\"\\nFPR Threshold:            \" + str(FPR))\n",
    "            print (\"False Positive Rate:      \" + str(false_positive_rate[ind]))\n",
    "            print (\"True Positive Rate:       \" + str(true_positive_rate[ind]))\n",
    "            print (\"Predicted Class\\nProbability Threshold:    \" + str(thresholds[ind]))\n",
    "            print (\"Index:                    \" + str(ind))\n",
    "            break"
   ]
  },
  {
   "cell_type": "code",
   "execution_count": 6,
   "metadata": {},
   "outputs": [
    {
     "data": {
      "image/png": "[encoded data removed]",
      "text/plain": [
       "<matplotlib.figure.Figure at 0x1066ae0f0>"
      ]
     },
     "metadata": {},
     "output_type": "display_data"
    }
   ],
   "source": [
    "# Draw a plot at the point at which \n",
    "# diagnosing a cancer patient as normal is twice as bad as diagnosing a normal patient with cancer\n",
    "# That is: False negative rate needs to be half false positive rate FNR = 1/2 FPR\n",
    "# FNR = 1-TPR\n",
    "# 1 - TPR = 1/2 FPR\n",
    "fpr, tpr, thresholds = roc_curve(ytest, test_scores)\n",
    "plt.plot(1-tpr, thresholds, label='FNR')\n",
    "plt.plot(0.5*fpr, thresholds, label='0.5 * FPR')\n",
    "plt.title(\"Scaled FNR and FPR intersection (detail)\")\n",
    "plt.xlabel('Threshhold')\n",
    "plt.ylabel('Scaled FNR and FPR')\n",
    "plt.xlim(0.05, 0.2)\n",
    "plt.ylim(0.0, 0.02)\n",
    "plt.show()\n",
    "\n"
   ]
  },
  {
   "cell_type": "code",
   "execution_count": 10,
   "metadata": {},
   "outputs": [
    {
     "name": "stderr",
     "output_type": "stream",
     "text": [
      "/Users/sshaffer/anaconda/envs/py36/lib/python3.6/site-packages/ipykernel_launcher.py:15: RuntimeWarning: divide by zero encountered in long_scalars\n",
      "  from ipykernel import kernelapp as app\n"
     ]
    },
    {
     "name": "stdout",
     "output_type": "stream",
     "text": [
      "Threshold:        0.116\n",
      "False Negative:   50\n",
      "False Positive:   100\n",
      "\n",
      "\n",
      "Test Confusion Matrix at threshold: 0.116\n",
      "[[16884   100]\n",
      " [   50    54]]\n",
      "\n",
      "true positive rate at threshold 0.116 :  0.519230769231\n",
      "\n",
      "false positive rate at threshold 0.116:  0.00588789448893\n"
     ]
    }
   ],
   "source": [
    "#    Computed mathematically...\n",
    "#    Diagnosing a cancer patient as normal is twice as critical an error as \n",
    "#    diagnosing a normal patient as having cancer.\n",
    "#     ==> One False Negative is 2 times less desirable than One False Positive\n",
    "#    Determine the classification threshold corresponding to this\n",
    "\n",
    "threshold = 0.0\n",
    "# Iterate through theshold range\n",
    "for threshold in np.arange(0.0, 1.0, 0.001):\n",
    "    # Determine FN and FP from confusion matrix at specified threshold\n",
    "    tn_logregCV, fp_logregCV, fn_logregCV, tp_logregCV = confusion_matrix(ytest, \n",
    "                                                                      (np.round(logregcv.predict_proba(Xtest)[:,1] - threshold + 0.5)),\n",
    "                                                                      labels = None).ravel()\n",
    "    #  Is False Positive // False Negative = 2?\n",
    "    if ( fp_logregCV % fn_logregCV == 0)  and ( fp_logregCV // fn_logregCV == 2):\n",
    "        # Yes, display threshold, FN, and FP\n",
    "        print (\"Threshold:        \" + str(threshold))\n",
    "        print (\"False Negative:   \" + str(fn_logregCV))\n",
    "        print (\"False Positive:   \" + str(fp_logregCV))\n",
    "        break\n",
    "print (\"\\n\\nTest Confusion Matrix at threshold: \" + str(threshold))\n",
    "print (confusion_matrix(ytest, (np.round(logregcv.predict_proba(Xtest)[:,1] - threshold + 0.5)),labels = None))\n",
    "tpr_logregCV = tp_logregCV/(tp_logregCV + fn_logregCV)\n",
    "fpr_logregCV = fp_logregCV/(fp_logregCV + tn_logregCV)\n",
    "\n",
    "# Compute true positive rate of the fitted classifier at threshold\n",
    "print (\"\\ntrue positive rate at threshold \" + str(threshold) + \" :  \" + str(tpr_logregCV))\n",
    "\n",
    "# Compute false positive rate of the fitted classifier at threshold\n",
    "fpr_logregCV = fp_logregCV/(fp_logregCV + tn_logregCV)\n",
    "print (\"\\nfalse positive rate at threshold \" + str(threshold) + \":  \" + str(fpr_logregCV))\n",
    "\n",
    "\n"
   ]
  },
  {
   "cell_type": "markdown",
   "metadata": {},
   "source": [
    "#### Q: How do the two ROC curves compare?\n",
    "\n",
    "The fitted classifier ROC curve is much better, its True Positive values are always larger than the all 0's classifier ROC curve values for any given False Positive value, or, put another way, tends toward the upper left quadrant of the plot more than the all 0's classifier ROC curve.  The all 0's classifier ROC curve is a straight line with slope = 1 and y-intercept at x = 0.  This is equivalent to a truly random (and therefore very poor) classifier, meaning, it's no better at identifying true positives than flipping a coin.  Such as classifier will have an area under the ROC curve (AUC) of 0.5, the lowest possible AUC.\n",
    "\n",
    "#### Q: Compute the highest TPR that can be achieved by the classifier at each of the following FPR's, and the thresholds at which they are achieved. Based on your results, comment on how the threshold influences a classifier's FPR. Based on your results, comment on how the threshold influences a classifier's FPR.\n",
    "    \n",
    "  \n",
    "FPR | TPR |  Predicted Class<br> Probability Threshold|\n",
    "-------------:|-------------:|-------------:|\n",
    "0 | 0.0|0.9999|\n",
    "0.1| 0.8077|0.0057|\n",
    "0.5| 0.9615|0.0002|\n",
    "0.9| 0.9904|6.7004874287e-09|\n",
    "\n",
    "Lowering the predicted class probability threshold corresponds to increasing the classifier's false positive rate (FPR).\n",
    "\n",
    "#### Q: Suppose a clinician told you that diagnosing a cancer patient as normal is twice as critical an error as diagnosing a normal patient as having cancer. Based on this information, what threshold would you recommend the clinician to use? What is the TPR and FPR of the classifier at this threshold?\n",
    "\n",
    "Based on this criteria, we took two approaches:\n",
    "\n",
    "**1)** *Visual approach* - We constructed a figure, see above, that consists of two plots, FNR and FPR both scaled corresponding to meet the clinician's criteria.  We could then visually determine the point at which the two plots intersect, this corresponds to the predicted class probability threshold at which diagnosing a cancer patient as normal is twice as bad as diagnosing a normal patient with cancer.\n",
    "\n",
    "**2)** *Iterative approach* - We iterate through a range of predicted class probability thresholds between 0 and 1 to determine at which threshold the ratio of the number of False Positives to False Negative is 2.  \n",
    "\n",
    "Both the visual and iterative approach produced a predicted class probability threshold of 0.116, and we verified our fitted model yields 50 False Negatives and 100 False Positive when we use this threshold.  The TPR and FPR of the classifier at this threshold is 0.5192 and 0.0059, respectively.\n",
    "\n",
    "#### Q; Compute the area under the ROC curve (AUC) for both the fitted classifier and the all 0's classifier. How does the difference in the AUCs of the two classifiers compare with the difference between their classification accuracies in Question 1, Part 2(A)?\n",
    "\n",
    "The area under the ROC curve (AUC) for both the fitted classifier and the all 0's classifier is 0.93 and 0.5, respectively, as shown in the ROC plot.  An AUC of 0.5 is the lowest possible AUC and it corresponds to a truly random (and very poor) classifier as implied earlier.  Recall, the classification accuracies for both classifiers in Question 1, Part 2(A) were almost identical at ~99%.  AUC is a a better (more approproiate) quantitative metric to assess and compare binary classifier performance(s).\n",
    "\n"
   ]
  },
  {
   "cell_type": "markdown",
   "metadata": {
    "collapsed": true
   },
   "source": [
    "## Question 3: Missing data\n",
    "\n",
    "In this problem you are given a different data set, `hw6_dataset_missing.csv`, that is  similar to the one you used above (same column definitions and same conditions), however this data set contains missing values. \n",
    "\n",
    "*Note*: be careful of reading/treating column names and row names in this data set as well, it *may* be different than the first data set.\n",
    "\n",
    "\n",
    "1. Remove all observations that contain any missing values, split the dataset into a 75-25 train-test split, and fit the regularized logistic regression as in Question 1 (use `LogisticRegressionCV` again to retune).  Report the overall classification rate and TPR in the test set.\n",
    "2. Restart with a fresh copy of the data in `hw6_dataset_missing.csv` and impute the missing data via mean imputation.  Split the data 75-25 and fit the regularized logistic regression model.  Report the overall classification rate and TPR in the test set.  \n",
    "3. Again restart with a fresh copy of the data in `hw6_dataset_missing.csv` and impute the missing data via a model-based imputation method. Once again split the data 75-25 and fit the regularized logistic regression model.  Report the overall classification rate and TPR in the test set.  \n",
    "4. Compare the results in the 3 previous parts of this problem.  Prepare a paragraph (5-6 sentences) discussing the results, the computational complexity of the methods, and conjecture and explain why you get the results that you see.\n",
    "\n"
   ]
  },
  {
   "cell_type": "code",
   "execution_count": 11,
   "metadata": {
    "collapsed": true
   },
   "outputs": [],
   "source": [
    "from sklearn.metrics import confusion_matrix\n",
    "\n",
    "def split_data(df):\n",
    "    # Split data into 25-75 train and test data\n",
    "    np.random.seed(9001)\n",
    "    msk = np.random.rand(len(df)) < 0.75\n",
    "    data_train = df[msk]\n",
    "    data_test = df[~msk]\n",
    "    \n",
    "    # set y data to just the last column, remove last column from the predictor sets\n",
    "    ytrain = data_train.iloc[:,-1]\n",
    "    Xtrain = data_train.drop(data_test.columns[len(data_test.columns)-1], axis=1)\n",
    "\n",
    "    ytest = data_test.iloc[:,-1]\n",
    "    Xtest = data_test.drop(data_test.columns[len(data_test.columns)-1], axis=1)\n",
    "    return (ytrain, Xtrain, ytest, Xtest)\n",
    "    \n",
    "def split_and_test(df):\n",
    "    # Get all four sets from split data function\n",
    "    ytrain, Xtrain, ytest, Xtest = split_data(df)\n",
    "    # Perform logistic regression, then fit and score\n",
    "    logregcv = LogisticRegressionCV(penalty='l2')\n",
    "    logregcv.fit(Xtrain, ytrain)\n",
    "    print(\"\\nScore:\")\n",
    "    print(logregcv.score(Xtest, ytest))\n",
    "    test_preds = logregcv.predict(Xtest)\n",
    "    C = confusion_matrix(ytest, test_preds)\n",
    "    print(\"Confusion Matrix:\")\n",
    "    print(C)\n",
    "\n",
    "    print(\"True Positive Rate:\")\n",
    "    print(C[1][1] / (C[1][1] + C[1][0]))\n"
   ]
  },
  {
   "cell_type": "code",
   "execution_count": 13,
   "metadata": {},
   "outputs": [
    {
     "data": {
      "text/plain": [
       "93     3894\n",
       "94     3903\n",
       "95     3897\n",
       "96     3913\n",
       "97     3899\n",
       "98     3903\n",
       "99     3911\n",
       "100    3907\n",
       "101    3889\n",
       "102    3953\n",
       "103    3911\n",
       "104    3928\n",
       "105    3891\n",
       "106    3892\n",
       "107    3928\n",
       "108    3909\n",
       "109    3914\n",
       "dtype: int64"
      ]
     },
     "execution_count": 13,
     "metadata": {},
     "output_type": "execute_result"
    }
   ],
   "source": [
    "df_missing = pd.read_csv('./data/HW6_dataset_missing.csv')\n",
    "missing_columns = df_missing.columns[df_missing.isnull().any()]\n",
    "# How many NaNs are there in each column with missing data?\n",
    "df_missing[missing_columns].isnull().sum()\n"
   ]
  },
  {
   "cell_type": "code",
   "execution_count": 14,
   "metadata": {},
   "outputs": [
    {
     "name": "stderr",
     "output_type": "stream",
     "text": [
      "/Users/sshaffer/anaconda/envs/py36/lib/python3.6/site-packages/sklearn/model_selection/_split.py:597: Warning: The least populated class in y has only 1 members, which is too few. The minimum number of members in any class cannot be less than n_splits=3.\n",
      "  % (min_groups, self.n_splits)), Warning)\n"
     ]
    },
    {
     "name": "stdout",
     "output_type": "stream",
     "text": [
      "\n",
      "Score:\n",
      "0.994382022472\n",
      "Confusion Matrix:\n",
      "[[354   0]\n",
      " [  2   0]]\n",
      "True Positive Rate:\n",
      "0.0\n"
     ]
    }
   ],
   "source": [
    "#Drop missing datapoints\n",
    "df_dropped = df_missing.dropna(axis=0, how='any', inplace=False)\n",
    "split_and_test(df_dropped)"
   ]
  },
  {
   "cell_type": "code",
   "execution_count": 15,
   "metadata": {},
   "outputs": [
    {
     "name": "stdout",
     "output_type": "stream",
     "text": [
      "\n",
      "Score:\n",
      "0.992653061224\n",
      "Confusion Matrix:\n",
      "[[6072    2]\n",
      " [  43    8]]\n",
      "True Positive Rate:\n",
      "0.156862745098\n"
     ]
    }
   ],
   "source": [
    "#  Restart with a fresh copy of the data in hw6_dataset_missing.csv and \n",
    "#  impute the missing data via a model-based imputation method. \n",
    "#  Split the data 75-25 and fit the regularized logistic regression model. \n",
    "#  Report the overall classification rate and TPR in the test set.\n",
    "#  Determine which columns contain NaNs\n",
    "\n",
    "#df = pd.read_csv('./data/HW6_dataset_missing.csv')\n",
    "#df_full = df.copy()  \n",
    "#df_full.dropna(axis=0, how='any', inplace=True)  # df_full contains no NaNs\n",
    "df_mean = df_missing.copy()\n",
    "\n",
    "# Iterate through columns with Nan\n",
    "for missing_column in missing_columns:\n",
    "    # Find means of those columns\n",
    "    df_mean[missing_column] = df_missing[missing_column].fillna(df_mean[missing_column].mean())\n",
    "split_and_test(df_mean)"
   ]
  },
  {
   "cell_type": "code",
   "execution_count": 16,
   "metadata": {},
   "outputs": [
    {
     "name": "stdout",
     "output_type": "stream",
     "text": [
      "\n",
      "Score:\n",
      "0.992653061224\n",
      "Confusion Matrix:\n",
      "[[6071    3]\n",
      " [  42    9]]\n",
      "True Positive Rate:\n",
      "0.176470588235\n"
     ]
    }
   ],
   "source": [
    "from sklearn.linear_model import LinearRegression\n",
    "from sklearn.metrics import mean_squared_error\n",
    "# Again restart with a fresh copy of the data in hw6_dataset_missing.csv and \n",
    "# impute the missing data via a model-based imputation method. \n",
    "# Once again split the data 75-25 and fit the regularized logistic regression model. \n",
    "# Report the overall classification rate and TPR in the test set.\n",
    "\n",
    "# Remove predictor\n",
    "df_full = df_missing.copy()\n",
    "df_impute = df_missing.copy()\n",
    "\n",
    "#Drop missing rows\n",
    "df_full.dropna(axis=0, how='any', inplace=True)  # df_full contains no NaNs\n",
    "# Drop missing columns for X_imp predictions\n",
    "X_imp  = df_full.drop(missing_columns, axis = 1)\n",
    "\n",
    "# Iterate through previously-found columns with Nan\n",
    "for missing_column in missing_columns:\n",
    "    #  Build linear regression model using dataset without columns containing NaNs\n",
    "    y_imp  = df_full[missing_column]\n",
    "\n",
    "    linreg = LinearRegression()\n",
    "    linreg.fit(X_imp, y_imp)\n",
    "    \n",
    "    y_hat = linreg.predict(X_imp)\n",
    "\n",
    "    #  Get rows with missing indexes and then Drop column we're trying to impute\n",
    "    X_missing_rows_df = df_missing[df_missing[missing_column].isnull()]\n",
    "    X_missing_indexes = df_missing[df_missing[missing_column].isnull()].index\n",
    "\n",
    "    X_missing_rows_df = X_missing_rows_df.drop(missing_columns, axis = 1)\n",
    "\n",
    "    y_missing_rows = linreg.predict(X_missing_rows_df)\n",
    "\n",
    "    y_missing_noise = y_missing_rows + np.random.normal(loc = 0,\n",
    "                                                   scale = np.sqrt(mean_squared_error(y_imp,y_hat)),\n",
    "                                                   size  = y_missing_rows.shape[0])\n",
    "    missing_series = pd.Series(data = y_missing_noise, index = X_missing_indexes)\n",
    "    \n",
    "    #back to the data set with missingness and impute the predictions\n",
    "    df_impute[missing_column] = df_impute[missing_column].fillna(missing_series)\n",
    "\n",
    "split_and_test(df_impute)\n",
    "\n"
   ]
  },
  {
   "cell_type": "markdown",
   "metadata": {},
   "source": [
    "#### Q: Remove all observations that contain and missing values, split the dataset into a 75-25 train-test split, and fit the regularized logistic regression as in Question 1. Report the overall classification rate and TPR in the test set.\n",
    "\n",
    "Overall classification rate: 0.994\n",
    "True positive rate: 0.0\n",
    "\n",
    "#### Q: Restart with a fresh copy of the data in hw6_dataset_missing.csv and impute the missing data via mean imputation. Split the data 75-25 and fit the regularized logistic regression model. Report the overall classification rate and TPR in the test set.\n",
    "\n",
    "Overall classification rate: 0.993\n",
    "True positive rate: 0.157\n",
    "\n",
    "#### Q: Impute the missing data via a model-based imputation method. Once again split the data 75-25 and fit the regularized logistic regression model. Report the overall classification rate and TPR in the test set.\n",
    "\n",
    "Overall classification rate: 0.993\n",
    "True positive rate: 0.176\n",
    "\n",
    "#### Q: Compare the results in the 3 previous parts of this problem. Prepare a paragraph (5-6 sentences) discussing the results, the computational complexity of the methods, and conjecture and explain why you get the results that you see.\n",
    "\n",
    "All three of the correct classification rates were very similar, differing only by a tenth of a percent. Removing the missing values produced the best classification rate at 0.994, but with no true positive values (true positive rate of 0.0). Because there was so little remaining data to work with, the classification rate may be artifically high as a result of overfitting to less data, as compared with the other two methods.\n",
    "\n",
    "Mean imputation decreased the correct classification rate slightly and provided a better true positive rate, although it was still at only 15.7%. \n",
    "\n",
    "Using a model based imputation method increased the true positive rate (17.6%) as well as the classification rate. However the complexity of the model -- which required a linear regression for each predictor -- increased dramatically over the mean imputation model. The mean imputation model produced a good result, preserved data (as compared with the \"discard rows with missing data\" method), and did not require much additional calculation over doing a straightforward logistic regression with cross validation.\n",
    "\n"
   ]
  },
  {
   "cell_type": "code",
   "execution_count": null,
   "metadata": {
    "collapsed": true
   },
   "outputs": [],
   "source": []
  }
 ],
 "metadata": {
  "anaconda-cloud": {},
  "kernelspec": {
   "display_name": "Python 3",
   "language": "python",
   "name": "python3"
  },
  "language_info": {
   "codemirror_mode": {
    "name": "ipython",
    "version": 3
   },
   "file_extension": ".py",
   "mimetype": "text/x-python",
   "name": "python",
   "nbconvert_exporter": "python",
   "pygments_lexer": "ipython3",
   "version": "3.6.1"
  }
 },
 "nbformat": 4,
 "nbformat_minor": 1
}
