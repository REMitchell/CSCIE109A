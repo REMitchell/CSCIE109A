{
 "cells": [
  {
   "cell_type": "markdown",
   "metadata": {},
   "source": [
    "# CS 109A/STAT 121A/AC 209A/CSCI E-109A: Homework 6\n",
    "# Reg-Logistic Regression, ROC, and Data Imputation\n",
    "\n",
    "**Harvard University**<br/>\n",
    "**Fall 2017**<br/>\n",
    "**Instructors**: Pavlos Protopapas, Kevin Rader, Rahul Dave, Margo Levine\n",
    "\n",
    "---\n",
    "\n",
    "### INSTRUCTIONS\n",
    "\n",
    "- To submit your assignment follow the instructions given in canvas.\n",
    "- Restart the kernel and run the whole notebook again before you submit. \n",
    "- Do not include your name(s) in the notebook if you are submitting as a group. \n",
    "- If you submit individually and you have worked with someone, please include the name of your [one] partner below. \n",
    "\n",
    "---"
   ]
  },
  {
   "cell_type": "markdown",
   "metadata": {},
   "source": [
    "Your partner's name (if you submit separately):\n",
    "\n",
    "Enrollment Status (109A, 121A, 209A, or E109A):"
   ]
  },
  {
   "cell_type": "markdown",
   "metadata": {},
   "source": [
    "Import libraries:"
   ]
  },
  {
   "cell_type": "code",
   "execution_count": 115,
   "metadata": {
    "collapsed": true
   },
   "outputs": [],
   "source": [
    "import numpy as np\n",
    "import pandas as pd\n",
    "import matplotlib\n",
    "import matplotlib.pyplot as plt\n",
    "from sklearn.linear_model import LogisticRegressionCV\n",
    "import sklearn.metrics as metrics\n",
    "from sklearn.preprocessing import PolynomialFeatures\n",
    "from sklearn.discriminant_analysis import LinearDiscriminantAnalysis\n",
    "from sklearn.discriminant_analysis import QuadraticDiscriminantAnalysis\n",
    "from sklearn.neighbors import KNeighborsClassifier\n",
    "from sklearn.tree import DecisionTreeClassifier\n",
    "from sklearn.model_selection import cross_val_score\n",
    "from sklearn.metrics import accuracy_score\n",
    "\n",
    "from sklearn.tree import export_graphviz\n",
    "from IPython.display import Image\n",
    "from IPython.display import display\n",
    "\n",
    "from IPython.display import display, Math, Latex\n",
    "%matplotlib inline"
   ]
  },
  {
   "cell_type": "markdown",
   "metadata": {},
   "source": [
    "## Automated Breast Cancer Detection\n",
    "\n",
    "In this homework, we will consider the problem of early breast cancer detection from X-ray images. Specifically, given a candidate region of interest (ROI) from an X-ray image of a patient's breast, the goal is to predict if the region corresponds to a malignant tumor (label 1) or is normal (label 0). The training and test data sets for this problem is provided in the file `hw6_dataset.csv`. Each row in these files corresponds to a ROI in a patient's X-ray, with columns 1-117 containing features computed using standard image processing algorithms. The last column contains the class label, and is based on a radiologist's opinion or a biopsy. This data was obtained from the KDD Cup 2008 challenge.\n",
    "\n",
    "The data set contain a total of 69,098 candidate ROIs, of which only 409 are malignant, while the remaining are all normal. \n",
    "\n",
    "*Note*: be careful of reading/treating column names and row names in this data set."
   ]
  },
  {
   "cell_type": "markdown",
   "metadata": {},
   "source": [
    "## Question 1: Beyond Classification Accuracy\n",
    "\n",
    "\n",
    "0.  Split the data set into a training set and a testing set.  The training set should be 75% of the original data set, and the testing set 25%.  Use `np.random.seed(9001)`.\n",
    "\n",
    "1. Fit a logistic regression classifier to the training set and report the  accuracy of the classifier on the test set. You should use $L_2$ regularization in logistic regression, with the regularization parameter tuned using cross-validation. \n",
    "    1. How does the fitted model compare with a classifier that predicts 'normal' (label 0) on all patients? \n",
    "    2. Do you think the difference in the classification accuracies are large enough to declare logistic regression as a better classifier than the all 0's classifier? Why or why not?\n",
    "    \n",
    "For applications with imbalanced class labels, in this case when there are many more healthy subjects ($Y=0$) than those with cancer ($Y=1$), the classification accuracy may not be the best metric to evaluate a classifier's performance. As an alternative, we could analyze the confusion table for the classifier. \n",
    "\n",
    "<ol start=\"3\">\n",
    "<li> Compute the confusion table for both the fitted classifier and the classifier that predicts all 0's.</li>\n",
    "<li> Using the entries of the confusion table compute the *true positive rate* and the *true negative rate* for the two classifiers. Explain what these evaluation metrics mean for the specific task of cancer detection. Based on the observed metrics, comment on whether the fitted model is better than the all 0's classifier.</li>\n",
    "<li> What is the *false positive rate* of the fitted classifier, and how is it related to its true positive and true negative rate? Why is a classifier with high false positive rate undesirable for a cancer detection task?</li>\n",
    "</ol>\n",
    "*Hint:* You may use the `metrics.confusion_matrix` function to compute the confusion matrix for a classification model."
   ]
  },
  {
   "cell_type": "code",
   "execution_count": 116,
   "metadata": {},
   "outputs": [
    {
     "data": {
      "text/html": [
       "<div>\n",
       "<style>\n",
       "    .dataframe thead tr:only-child th {\n",
       "        text-align: right;\n",
       "    }\n",
       "\n",
       "    .dataframe thead th {\n",
       "        text-align: left;\n",
       "    }\n",
       "\n",
       "    .dataframe tbody tr th {\n",
       "        vertical-align: top;\n",
       "    }\n",
       "</style>\n",
       "<table border=\"1\" class=\"dataframe\">\n",
       "  <thead>\n",
       "    <tr style=\"text-align: right;\">\n",
       "      <th></th>\n",
       "      <th>0</th>\n",
       "      <th>1</th>\n",
       "      <th>2</th>\n",
       "      <th>3</th>\n",
       "      <th>4</th>\n",
       "      <th>5</th>\n",
       "      <th>6</th>\n",
       "      <th>7</th>\n",
       "      <th>8</th>\n",
       "      <th>9</th>\n",
       "      <th>...</th>\n",
       "      <th>108</th>\n",
       "      <th>109</th>\n",
       "      <th>110</th>\n",
       "      <th>111</th>\n",
       "      <th>112</th>\n",
       "      <th>113</th>\n",
       "      <th>114</th>\n",
       "      <th>115</th>\n",
       "      <th>116</th>\n",
       "      <th>117</th>\n",
       "    </tr>\n",
       "  </thead>\n",
       "  <tbody>\n",
       "    <tr>\n",
       "      <th>0</th>\n",
       "      <td>-0.144</td>\n",
       "      <td>-0.143</td>\n",
       "      <td>-0.1160</td>\n",
       "      <td>-0.1030</td>\n",
       "      <td>0.226</td>\n",
       "      <td>0.210</td>\n",
       "      <td>-0.9800</td>\n",
       "      <td>-0.780</td>\n",
       "      <td>-0.474</td>\n",
       "      <td>-0.447</td>\n",
       "      <td>...</td>\n",
       "      <td>0.925</td>\n",
       "      <td>0.516</td>\n",
       "      <td>0.34400</td>\n",
       "      <td>0.906</td>\n",
       "      <td>-1.1300</td>\n",
       "      <td>-0.552</td>\n",
       "      <td>0.553</td>\n",
       "      <td>-0.417</td>\n",
       "      <td>0.2560</td>\n",
       "      <td>0.0</td>\n",
       "    </tr>\n",
       "    <tr>\n",
       "      <th>1</th>\n",
       "      <td>-0.011</td>\n",
       "      <td>0.138</td>\n",
       "      <td>-0.2230</td>\n",
       "      <td>-0.1730</td>\n",
       "      <td>0.188</td>\n",
       "      <td>0.284</td>\n",
       "      <td>-0.0522</td>\n",
       "      <td>-0.256</td>\n",
       "      <td>0.129</td>\n",
       "      <td>0.427</td>\n",
       "      <td>...</td>\n",
       "      <td>-0.593</td>\n",
       "      <td>0.452</td>\n",
       "      <td>0.00785</td>\n",
       "      <td>-0.533</td>\n",
       "      <td>-0.0789</td>\n",
       "      <td>0.705</td>\n",
       "      <td>0.906</td>\n",
       "      <td>0.216</td>\n",
       "      <td>-0.0723</td>\n",
       "      <td>0.0</td>\n",
       "    </tr>\n",
       "    <tr>\n",
       "      <th>2</th>\n",
       "      <td>0.212</td>\n",
       "      <td>-0.313</td>\n",
       "      <td>0.2660</td>\n",
       "      <td>0.2320</td>\n",
       "      <td>-1.190</td>\n",
       "      <td>-1.150</td>\n",
       "      <td>-1.8100</td>\n",
       "      <td>-1.560</td>\n",
       "      <td>-1.250</td>\n",
       "      <td>-1.200</td>\n",
       "      <td>...</td>\n",
       "      <td>-0.816</td>\n",
       "      <td>1.570</td>\n",
       "      <td>0.39400</td>\n",
       "      <td>1.340</td>\n",
       "      <td>-1.1800</td>\n",
       "      <td>-2.700</td>\n",
       "      <td>-0.926</td>\n",
       "      <td>-2.650</td>\n",
       "      <td>-0.0447</td>\n",
       "      <td>0.0</td>\n",
       "    </tr>\n",
       "    <tr>\n",
       "      <th>3</th>\n",
       "      <td>0.215</td>\n",
       "      <td>-0.184</td>\n",
       "      <td>0.0274</td>\n",
       "      <td>0.0494</td>\n",
       "      <td>0.443</td>\n",
       "      <td>0.463</td>\n",
       "      <td>-1.0500</td>\n",
       "      <td>-0.941</td>\n",
       "      <td>-0.531</td>\n",
       "      <td>-0.394</td>\n",
       "      <td>...</td>\n",
       "      <td>0.634</td>\n",
       "      <td>0.111</td>\n",
       "      <td>0.37100</td>\n",
       "      <td>0.859</td>\n",
       "      <td>-0.9930</td>\n",
       "      <td>-0.492</td>\n",
       "      <td>0.363</td>\n",
       "      <td>0.326</td>\n",
       "      <td>-0.0528</td>\n",
       "      <td>0.0</td>\n",
       "    </tr>\n",
       "    <tr>\n",
       "      <th>4</th>\n",
       "      <td>0.279</td>\n",
       "      <td>-0.197</td>\n",
       "      <td>0.1270</td>\n",
       "      <td>0.0973</td>\n",
       "      <td>-0.213</td>\n",
       "      <td>-0.150</td>\n",
       "      <td>-1.3200</td>\n",
       "      <td>-0.994</td>\n",
       "      <td>-1.110</td>\n",
       "      <td>-1.090</td>\n",
       "      <td>...</td>\n",
       "      <td>-0.640</td>\n",
       "      <td>0.485</td>\n",
       "      <td>0.29500</td>\n",
       "      <td>0.403</td>\n",
       "      <td>-1.1200</td>\n",
       "      <td>-0.343</td>\n",
       "      <td>0.468</td>\n",
       "      <td>-0.820</td>\n",
       "      <td>0.4350</td>\n",
       "      <td>0.0</td>\n",
       "    </tr>\n",
       "  </tbody>\n",
       "</table>\n",
       "<p>5 rows × 118 columns</p>\n",
       "</div>"
      ],
      "text/plain": [
       "     0      1       2       3      4      5       6      7      8      9    \\\n",
       "0 -0.144 -0.143 -0.1160 -0.1030  0.226  0.210 -0.9800 -0.780 -0.474 -0.447   \n",
       "1 -0.011  0.138 -0.2230 -0.1730  0.188  0.284 -0.0522 -0.256  0.129  0.427   \n",
       "2  0.212 -0.313  0.2660  0.2320 -1.190 -1.150 -1.8100 -1.560 -1.250 -1.200   \n",
       "3  0.215 -0.184  0.0274  0.0494  0.443  0.463 -1.0500 -0.941 -0.531 -0.394   \n",
       "4  0.279 -0.197  0.1270  0.0973 -0.213 -0.150 -1.3200 -0.994 -1.110 -1.090   \n",
       "\n",
       "  ...     108    109      110    111     112    113    114    115     116  117  \n",
       "0 ...   0.925  0.516  0.34400  0.906 -1.1300 -0.552  0.553 -0.417  0.2560  0.0  \n",
       "1 ...  -0.593  0.452  0.00785 -0.533 -0.0789  0.705  0.906  0.216 -0.0723  0.0  \n",
       "2 ...  -0.816  1.570  0.39400  1.340 -1.1800 -2.700 -0.926 -2.650 -0.0447  0.0  \n",
       "3 ...   0.634  0.111  0.37100  0.859 -0.9930 -0.492  0.363  0.326 -0.0528  0.0  \n",
       "4 ...  -0.640  0.485  0.29500  0.403 -1.1200 -0.343  0.468 -0.820  0.4350  0.0  \n",
       "\n",
       "[5 rows x 118 columns]"
      ]
     },
     "execution_count": 116,
     "metadata": {},
     "output_type": "execute_result"
    }
   ],
   "source": [
    "# Data has no row continaing column names\n",
    "df = pd.read_csv(\"./hw6_dataset.csv\", header = None)\n",
    "df.head()"
   ]
  },
  {
   "cell_type": "code",
   "execution_count": 117,
   "metadata": {},
   "outputs": [
    {
     "data": {
      "text/plain": [
       "0.0    68689\n",
       "1.0      409\n",
       "Name: 117, dtype: int64"
      ]
     },
     "execution_count": 117,
     "metadata": {},
     "output_type": "execute_result"
    }
   ],
   "source": [
    "#  How (im)balanced is the data?\n",
    "df[117].value_counts()\n",
    "\n"
   ]
  },
  {
   "cell_type": "code",
   "execution_count": 118,
   "metadata": {},
   "outputs": [
    {
     "name": "stderr",
     "output_type": "stream",
     "text": [
      "/Users/sshaffer/anaconda/envs/py36/lib/python3.6/site-packages/sklearn/model_selection/_split.py:2010: FutureWarning: From version 0.21, test_size will always complement train_size unless both are specified.\n",
      "  FutureWarning)\n"
     ]
    }
   ],
   "source": [
    "from sklearn.model_selection import train_test_split\n",
    "np.random.seed(9001)\n",
    "itrain, itest = train_test_split(range(df.shape[0]), train_size=0.75)\n",
    "# Remove the last column (response) when creating Xtrain and Xtest\n",
    "X_train = df.iloc[itrain, :-1]\n",
    "X_test  = df.iloc[itest,  :-1]\n",
    "y_train = df[117].iloc[itrain]\n",
    "y_test  = df[117].iloc[itest]"
   ]
  },
  {
   "cell_type": "code",
   "execution_count": 119,
   "metadata": {},
   "outputs": [
    {
     "name": "stdout",
     "output_type": "stream",
     "text": [
      "Max auc_roc: 0.99513748191\n"
     ]
    }
   ],
   "source": [
    "# Fit a logistic regression classifier to the training set and report the accuracy of the classifier on the test set. \n",
    "# You should use  L2 regularization in logistic regression, \n",
    "# with the regularization parameter tuned using cross-validation.\n",
    "\n",
    "logregCV = LogisticRegressionCV(Cs=list(np.power(10.0, np.arange(-10, 10)))\n",
    "                                ,penalty = 'l2')\n",
    "logregCV.fit(X_train, y_train)\n",
    "\n",
    "print ('Max auc_roc:', logregCV.scores_[1].max())\n",
    "\n"
   ]
  },
  {
   "cell_type": "code",
   "execution_count": 133,
   "metadata": {},
   "outputs": [
    {
     "name": "stdout",
     "output_type": "stream",
     "text": [
      "  LogReg Train Classification accuracy is: 0.995407444571\n",
      "Baseline Train Classification accuracy is: 0.993883024912\n",
      "\n",
      "\n",
      "LogReg Train Confusion Matrix:\n",
      "[[51488    18]\n",
      " [  220    97]]\n",
      "\n",
      "\n",
      "LogReg Baseline Train Confusion Matrix:\n",
      "[[51506     0]\n",
      " [  317     0]]\n",
      "\n",
      "\n",
      "  LogReg Test Classification accuracy is: 0.995716353111\n",
      "Baseline Test Classification accuracy is: 0.994674384949\n",
      "\n",
      "\n",
      "Test Confusion Matrix:\n",
      "[[17176     7]\n",
      " [   67    25]]\n",
      "\n",
      "\n",
      "Baseline Test Confusion Matrix:\n",
      "[[17183     0]\n",
      " [   92     0]]\n"
     ]
    }
   ],
   "source": [
    "from sklearn.metrics import confusion_matrix\n",
    "print (\"  LogReg Train Classification accuracy is: \" + str(accuracy_score(y_train, logregCV.predict(X_train))))\n",
    "\n",
    "print (\"Baseline Train Classification accuracy is: \" + str(accuracy_score(y_train, np.zeros(len(X_train)))))\n",
    "\n",
    "print (\"\\n\\nLogReg Train Confusion Matrix:\")\n",
    "print (confusion_matrix(y_train, logregCV.predict(X_train), labels=None)) \n",
    "\n",
    "print (\"\\n\\nLogReg Baseline Train Confusion Matrix:\")\n",
    "print (confusion_matrix(y_train, np.zeros(len(X_train)), labels=None))\n",
    "\n",
    "print (\"\\n\\n  LogReg Test Classification accuracy is: \" + str(accuracy_score(y_test, logregCV.predict(X_test))))\n",
    "\n",
    "print (\"Baseline Test Classification accuracy is: \" + str(accuracy_score(y_test, np.zeros(len(X_test)))))\n",
    "\n",
    "print (\"\\n\\nTest Confusion Matrix:\")\n",
    "print (confusion_matrix(y_test, logregCV.predict(X_test), labels=None)) \n",
    "\n",
    "print (\"\\n\\nBaseline Test Confusion Matrix:\")\n",
    "print (confusion_matrix(y_test, np.zeros(len(X_test)), labels=None))\n",
    "\n"
   ]
  },
  {
   "cell_type": "code",
   "execution_count": 157,
   "metadata": {},
   "outputs": [
    {
     "name": "stdout",
     "output_type": "stream",
     "text": [
      "true positive rate for LogReg classifier  :  0.271739130435\n",
      "true positive rate for baseline classifier:  0.0\n",
      "\n",
      "true negative rate for LogReg classifier  :  0.999592620613\n",
      "true negative rate for baseline classifier:  1.0\n",
      "\n",
      "false positive rate for LogReg classifier  :  0.000407379386603\n"
     ]
    }
   ],
   "source": [
    "# Compute the following for both classifiers:\n",
    "#   true positive rate\n",
    "#   true negative rate \n",
    "\n",
    "tn_logregCV, fp_logregCV, fn_logregCV, tp_logregCV = confusion_matrix(y_test, \n",
    "                                                                      logregCV.predict(X_test),\n",
    "                                                                      labels = None).ravel()\n",
    "\n",
    "tpr_logregCV = tp_logregCV/(tp_logregCV + fn_logregCV)\n",
    "tnr_logregCV = tn_logregCV/(tn_logregCV + fp_logregCV)\n",
    "\n",
    "tn_base, fp_base, fn_base, tp_base = confusion_matrix(y_test, \n",
    "                                                       np.zeros(len(X_test)), \n",
    "                                                       labels = None).ravel()\n",
    "                                      \n",
    "tpr_base = tp_base/(tp_base + fn_base)\n",
    "tnr_base = tn_base/(tn_base + fp_base)\n",
    "\n",
    "print (\"true positive rate for LogReg classifier  :  \"   + str(tpr_logregCV))\n",
    "print (\"true positive rate for baseline classifier:  \" + str(tpr_base))\n",
    "\n",
    "print (\"\\ntrue negative rate for LogReg classifier  :  \"   + str(tnr_logregCV))\n",
    "print (\"true negative rate for baseline classifier:  \" + str(tnr_base))\n",
    "\n",
    "# Compute false positive rate of the fitted classifier\n",
    "fpr_logregCV = fp_logregCV/(fp_logregCV + tn_logregCV)\n",
    "print (\"\\nfalse positive rate for LogReg classifier  :  \"   + str(fpr_logregCV))\n"
   ]
  },
  {
   "cell_type": "markdown",
   "metadata": {},
   "source": [
    "\n",
    "\n",
    "#### How does the fitted model compare with a classifier that predicts 'normal' (label 0) on all patients?\n",
    "\n",
    "The accuracy of the fitted model using logistic regression (0.9954) is just marginally better than the accuracy of the all 0's classifier (0.9938)\n",
    "\n",
    "#### Do you think the difference in the classification accuracies are large enough to declare logistic regression as a better classifier than the all 0's classifier? Why or why not? \n",
    "\n",
    "Based on classification accuracy metric alone, we don't think the difference in classification accuracies (0.2%) is large enough to affirm logistic regression as the better classifier.\n",
    "\n",
    "#### Explain what these evaluation metrics (true positive rate and the true negative rate) mean for the specific task of cancer detection. \n",
    "\n",
    "The true positive rate, also known as Sensitivity, is the ability of the test to correctly diagnose patients who have the disease (malignant tumor in this case), given they have the disease:\n",
    "\n",
    "$$\\frac{True~Positive}{(True~Positive + False~Negative)}$$\n",
    "\n",
    "The true negative rate, also known as Specificity, is the ability of the test to correctly diagnose patients who don’t have the disease, given they do not have the disease:\n",
    "\n",
    "$$\\frac{True~Negative}{(True~Negative + False~Positive)}$$\n",
    "\n",
    "It's worth noting that while sensitivity and specificity are easy to measure, they're not very useful in clinical practice since a clinician doesn't know if a given patient has the disease in question or not.  This is the reason why the clinician performs the diagnostic test in the first place. Instead, the clinician wants to know, given the test result, how likely is it that the patient has the disease (positive predictive value).\n",
    "\n",
    "\n",
    "#### Based on the observed metrics, comment on whether the fitted model is better than the all 0's classifier.\n",
    "\n",
    "A different picture emerges when we compare the confusion matrices, true positive rates, and true negative rates of the two classifiers.  When making comparisons, the fitted logistic regression is clearly the better model, based on comparing the true positive rates: 27% for the logistic regression classifier vs 0% for all 0's classifier. Given that we're trying to identify a malignant tumor, a potentially fatal condition, the all 0's classifier will never predict a malignant tumor, making it a totally ineffective model.  \n",
    "\n",
    "The true negative rates for both classifiers are almost equivalent at or around 100%, however, for such a serious condition, we'd rather have a higher true positive rates at the expense of a lower true negative rates.  While there's definitely room for improvement in logistic regression classifier's true positive rate, anything is better than 0%!\n",
    "\n",
    "\n",
    "#### What is the false positive rate of the fitted classifier,  and how is it related to its true positive and true negative rate? \n",
    "\n",
    "The false positive rate of our fitted logistic regression classifier is ~0.0004.  The false positive rate, also know as the fall-out, is the ability of the test to incorrectly diagnose patients who don’t have the disease, given they do not have the disease:\n",
    "\n",
    "$$\\frac{False~Positive}{(False~Positive + True~Negative)}$$\n",
    "\n",
    "Mathematically, its relation to the true negative rate is as follows:\n",
    "\n",
    "$$ False~Positive~Rate = 1 - True~Negative~Rate$$\n",
    "\n",
    "which we verify, our fitted logistic regression classifier yielded a 0.0004 false positive rate and a 0.9996 true negative rate.\n",
    "\n",
    "#### Why is a classifier with high false positive rate undesirable for a cancer detection task?\n",
    "\n",
    "A classifier with high false positive rate could be viewed as undesirable for a cancer detection task in the context that the patient who doesn't really have the disease (malignant tumor) will most likely undergo additional unnessary, and possibly invasive, tests/procedures and will feel stressed thinking they have the disease when they don't.\n",
    "\n",
    "We view a high false negative rate as even more undesirable than a high false positive rate in the context of cancer detection since the mistake of not detecting cancer when it's present can have extreme negative consequences for the patient's mortality."
   ]
  },
  {
   "cell_type": "markdown",
   "metadata": {},
   "source": [
    "## Question 2: ROC Analysis\n",
    "\n",
    "Another powerful diagnostic tool for class-imbalanced classification tasks is the Receiver Operating Characteristic (ROC) curve. Notice that the default logistic regression classifier in `sklearn` classifies a data point by thresholding the predicted class probability $\\hat{P}(Y=1)$ at 0.5. By using a different threshold, we can adjust the trade-off between the true positive rate (TPR) and false positive rate (FPR) of the classifier. The ROC curve allows us to visualize this trade-off across all possible thresholds.\n",
    "\n",
    "\n",
    "1. Display the ROC curve for the fitted classifier on the *test set*. In the same plot, also display the ROC curve for the all 0's classifier. How do the two curves compare?\n",
    "\n",
    "2.  Compute the highest TPR that can be achieved by the classifier at each of the following FPR's, and the thresholds at which they are achieved. Based on your results, comment on how the threshold influences a classifier's FPR.\n",
    "    - FPR = 0\n",
    "    - FPR = 0.1\n",
    "    - FPR = 0.5\n",
    "    - FPR = 0.9\n",
    "- Suppose a clinician told you that diagnosing a cancer patient as normal is *twice* as critical an error as diagnosing a normal patient as having cancer. Based on this information, what threshold would you recommend the clinician to use? What is the TPR and FPR of the classifier at this threshold? \n",
    "\n",
    "- Compute the area under the ROC curve (AUC) for both the fitted classifier and the all 0's classifier. How does the difference in the AUCs of the two classifiers compare with the difference between their classification accuracies in Question 1, Part 2(A)? \n",
    "\n",
    "*Hint:* You may use the `metrics.roc_curve` function to compute the ROC curve for a classification model and the `metrics.roc_auc_score` function to compute the AUC for the model."
   ]
  },
  {
   "cell_type": "code",
   "execution_count": 192,
   "metadata": {},
   "outputs": [
    {
     "data": {
      "image/png": "[encoded data removed]",
      "text/plain": [
       "<matplotlib.figure.Figure at 0x1160911d0>"
      ]
     },
     "metadata": {},
     "output_type": "display_data"
    }
   ],
   "source": [
    "#making ROC curves for this model\n",
    "from sklearn.metrics import roc_curve, auc\n",
    "\n",
    "false_positive_rate, true_positive_rate, thresholds = roc_curve(y_test, logregCV.predict_proba(X_test)[:,1])\n",
    "\n",
    "roc_auc = auc(false_positive_rate, true_positive_rate)\n",
    "\n",
    "false_positive_rate2, true_positive_rate2, thresholds2 = roc_curve(y_test, np.zeros(len(X_test)))\n",
    "roc_auc2 = auc(false_positive_rate2, true_positive_rate2)\n",
    "\n",
    "\n",
    "plt.figure(figsize = (16, 12))\n",
    "plt.title('Receiver Operating Characteristic')\n",
    "plt.plot(false_positive_rate, true_positive_rate, 'b', label='Logistic Regression Classifier AUC = %0.2f'% roc_auc)\n",
    "plt.plot(false_positive_rate2, true_positive_rate2, 'b', c = 'red', label='All 0\\'s Classifier AUC = %0.2f'% roc_auc2)\n",
    "plt.legend(loc='lower right')\n",
    "plt.xlim([-0.1,1.05])\n",
    "plt.ylim([-0.1,1.05])\n",
    "plt.ylabel('True Positive Rate')\n",
    "plt.xlabel('False Positive Rate')\n",
    "plt.show()"
   ]
  },
  {
   "cell_type": "code",
   "execution_count": 242,
   "metadata": {},
   "outputs": [
    {
     "name": "stdout",
     "output_type": "stream",
     "text": [
      "\n",
      "FPR Threshold:            0.0\n",
      "False Positive Rate:      5.8197055229e-05\n",
      "True Positive Rate:       0.173913043478\n",
      "Predicted Class\n",
      "Probability Threshold:    0.683264866243\n",
      "Index:                    2\n",
      "\n",
      "FPR Threshold:            0.1\n",
      "False Positive Rate:      0.108944887389\n",
      "True Positive Rate:       0.826086956522\n",
      "Predicted Class\n",
      "Probability Threshold:    0.0057480486594\n",
      "Index:                    96\n",
      "\n",
      "FPR Threshold:            0.5\n",
      "False Positive Rate:      0.60344526567\n",
      "True Positive Rate:       0.978260869565\n",
      "Predicted Class\n",
      "Probability Threshold:    0.000101916447651\n",
      "Index:                    124\n",
      "\n",
      "FPR Threshold:            0.9\n",
      "False Positive Rate:      0.993714718035\n",
      "True Positive Rate:       0.989130434783\n",
      "Predicted Class\n",
      "Probability Threshold:    8.6018299594e-10\n",
      "Index:                    126\n"
     ]
    }
   ],
   "source": [
    "#  Compute the highest TPR that can be achieved by the classifier at each of the following FPR's, \n",
    "#  and the thresholds at which they are achieved. \n",
    "FPRS = [0.0, 0.1, 0.5, 0.9]\n",
    "#  Iterate through specified FPR thresholds\n",
    "for FPR in FPRS:\n",
    "    #  Iterate through false positive rate object for the fitted logistic regression classifier.\n",
    "    for ind, fpr in enumerate(false_positive_rate):\n",
    "        # Do we cross the pecified FPR threshold?\n",
    "        if fpr - FPR > 0:\n",
    "            # Yes, then grab values\n",
    "            print (\"\\nFPR Threshold:            \" + str(FPR))\n",
    "            print (\"False Positive Rate:      \" + str(false_positive_rate[ind]))\n",
    "            print (\"True Positive Rate:       \" + str(true_positive_rate[ind]))\n",
    "            print (\"Predicted Class\\nProbability Threshold:    \" + str(thresholds[ind]))\n",
    "            print (\"Index:                    \" + str(ind))\n",
    "            break\n",
    "\n"
   ]
  },
  {
   "cell_type": "code",
   "execution_count": 291,
   "metadata": {},
   "outputs": [
    {
     "name": "stderr",
     "output_type": "stream",
     "text": [
      "/Users/sshaffer/anaconda/envs/py36/lib/python3.6/site-packages/ipykernel_launcher.py:15: RuntimeWarning: divide by zero encountered in long_scalars\n",
      "  from ipykernel import kernelapp as app\n"
     ]
    },
    {
     "name": "stdout",
     "output_type": "stream",
     "text": [
      "Threshold:        0.108\n",
      "False Negative:   41\n",
      "False Positive:   121\n",
      "\n",
      "\n",
      "Test Confusion Matrix at threshold: 0.108\n",
      "[[17062   121]\n",
      " [   41    51]]\n",
      "\n",
      "true positive rate at threshold 0.108 :  0.554347826087\n",
      "\n",
      "false positive rate at threshold 0.108:  0.00704184368271\n"
     ]
    }
   ],
   "source": [
    "# Compute the Predicted Class Probability Threshold where:\n",
    "#    Diagnosing a cancer patient as normal is twice as critical an error as \n",
    "#    diagnosing a normal patient as having cancer.\n",
    "#     ==> One False Negative is 2 times less desirable than One False Positive\n",
    "#    Determine the classification threshold corresponding to this\n",
    "\n",
    "threshold = 0.0\n",
    "# Iterate through theshold range\n",
    "for threshold in np.arange(0.0, 1.0, 0.001):\n",
    "    # Determine FN and FP from confusion matrix at specified threshold\n",
    "    tn_logregCV, fp_logregCV, fn_logregCV, tp_logregCV = confusion_matrix(y_test, \n",
    "                                                                      (np.round(logregCV.predict_proba(X_test)[:,1] - threshold + 0.5)),\n",
    "                                                                      labels = None).ravel()\n",
    "    #  Is False Positive // False Negative = 2?\n",
    "    if fp_logregCV//fn_logregCV == 2:\n",
    "        # Yes, display threshold, FN, and FP\n",
    "        print (\"Threshold:        \" + str(threshold))\n",
    "        print (\"False Negative:   \" + str(fn_logregCV))\n",
    "        print (\"False Positive:   \" + str(fp_logregCV))\n",
    "        break\n",
    "print (\"\\n\\nTest Confusion Matrix at threshold: \" + str(threshold))\n",
    "print (confusion_matrix(y_test, (np.round(logregCV.predict_proba(X_test)[:,1] - threshold + 0.5)),labels = None))\n",
    "tpr_logregCV = tp_logregCV/(tp_logregCV + fn_logregCV)\n",
    "fpr_logregCV = fp_logregCV/(fp_logregCV + tn_logregCV)\n",
    "\n",
    "# Compute true positive rate of the fitted classifier at threshold\n",
    "print (\"\\ntrue positive rate at threshold \" + str(threshold) + \" :  \" + str(tpr_logregCV))\n",
    "\n",
    "# Compute false positive rate of the fitted classifier at threshold\n",
    "fpr_logregCV = fp_logregCV/(fp_logregCV + tn_logregCV)\n",
    "print (\"\\nfalse positive rate at threshold \" + str(threshold) + \":  \" + str(fpr_logregCV))\n",
    "\n"
   ]
  },
  {
   "cell_type": "markdown",
   "metadata": {},
   "source": [
    "#### How do the two ROC curves compare?\n",
    "\n",
    "The fitted classifier ROC curve is much better, its True Positive values are always larger than the coresponding all 0's classifier ROC curve values for any given False Positive value.   The all 0's classifier ROC curve is a straight line with slope = 1 and y-intercept at x = 0, which is equivalent to a truly useless classifier, meaning, one that is no better at identifying true positives than flipping a coin, as it has an has an area of 0.5. \n",
    "\n",
    "#### Compute the highest TPR that can be achieved by the classifier at each of the following FPR's, and the thresholds at which they are achieved. Based on your results, comment on how the threshold influences a classifier's FPR. Based on your results, comment on how the threshold influences a classifier's FPR.\n",
    "\n",
    "FPR | TPR |Probability Threshold|\n",
    "-------------:|-------------:|-------------:|\n",
    "0 | 0.1739|0.6833|\n",
    "0.1| 0.8261|0.0058|\n",
    "0.5| 0.9783|0.0001|\n",
    "0.9| 0.9891|8.6018299594e-10|\n",
    "\n",
    "Lowering the predicted class probability threshold corresponds to increasing a classifier's false positive rate (FPR).\n",
    "\n",
    "#### Suppose a clinician told you that diagnosing a cancer patient as normal is twice as critical an error as diagnosing a normal patient as having cancer. Based on this information, what threshold would you recommend the clinician to use? What is the TPR and FPR of the classifier at this threshold?\n",
    "\n",
    "Based on this criteria, we iterate through various predicted class probability thresholds between 0 and 1 to determine at which threshold the ratio of the number of False Positives to False Negative exceeds 2.  We computed a threshold = 0.108 (corresponding to False Negative: 41, False Positive: 121 in our fitted model).  The TPR and FPR of the classifier at this threshold is 0.5543 and 0.0070, respectively.\n",
    "\n",
    "#### Compute the area under the ROC curve (AUC) for both the fitted classifier and the all 0's classifier. How does the difference in the AUCs of the two classifiers compare with the difference between their classification accuracies in Question 1, Part 2(A)?\n",
    "\n",
    "The area under the ROC curve (AUC) for both the fitted classifier and the all 0's classifier is 0.93 and 0.5, respectively, as shown in the ROC plot.  An AUC of 0.5 corresponds to a truly useless (random) classifier as implied earlier.\n",
    "\n",
    "z\n",
    "\n"
   ]
  },
  {
   "cell_type": "markdown",
   "metadata": {
    "collapsed": true
   },
   "source": [
    "## Question 3: Missing data\n",
    "\n",
    "In this problem you are given a different data set, `hw6_dataset_missing.csv`, that is  similar to the one you used above (same column definitions and same conditions), however this data set contains missing values. \n",
    "\n",
    "*Note*: be careful of reading/treating column names and row names in this data set as well, it *may* be different than the first data set.\n",
    "\n",
    "\n",
    "1. Remove all observations that contain and missing values, split the dataset into a 75-25 train-test split, and fit the regularized logistic regression as in Question 1 (use `LogisticRegressionCV` again to retune).  Report the overall classification rate and TPR in the test set.\n",
    "2. Restart with a fresh copy of the data in `hw6_dataset_missing.csv` and impute the missing data via mean imputation.  Split the data 75-25 and fit the regularized logistic regression model.  Report the overall classification rate and TPR in the test set.  \n",
    "3. Again restart with a fresh copy of the data in `hw6_dataset_missing.csv` and impute the missing data via a model-based imputation method. Once again split the data 75-25 and fit the regularized logistic regression model.  Report the overall classification rate and TPR in the test set.  \n",
    "4. Compare the results in the 3 previous parts of this problem.  Prepare a paragraph (5-6 sentences) discussing the results, the computational complexity of the methods, and conjecture and explain why you get the results that you see.\n",
    "\n"
   ]
  },
  {
   "cell_type": "markdown",
   "metadata": {},
   "source": [
    "## APCOMP209a - Homework Question"
   ]
  },
  {
   "cell_type": "markdown",
   "metadata": {
    "collapsed": true
   },
   "source": [
    "\n",
    "This problem walks you through the derivation of the **likelihood equations** for a generalized linear model (GLM). Suppose that the random component of the GLM is in the univariate natural exponential family, so that\n",
    "$$f(y_i|\\theta_i) = h(y_i) e^{y_i\\theta_i - b(\\theta_i)}$$\n",
    "Define the individual log-likelihood for each observation $i$ as\n",
    "$$l_i(\\theta_i) \\equiv \\log f(y_i|\\theta_i)$$\n",
    "with linear predictor\n",
    "$$\\eta_i = x_i^T\\beta = g(\\mu_i)$$\n",
    "for some link function $g$ and where $\\mu_i=E(Y_i)$.\n",
    "\n",
    "1. Use the above expressions to write a simplified expression for the log-likelihood $l(\\theta)$ for the entire dataset, $y_1, \\dots, y_n$.\n",
    "\n",
    "2. Use the chain rule to express $\\frac{\\partial l_i}{\\partial \\beta_j}$ in terms of the derivatives of $l_i, \\theta_i, \\mu_i$, and $\\eta_i$. (*Hint*: Think carefully about which variables are related to which, and in what way. For example, for which of the above variables do you know the derivative with respect to $\\beta_j$?)\n",
    "\n",
    "3. Compute the derivatives for $\\frac{\\partial l_i}{\\partial \\theta_i}$ and $\\frac{\\partial \\eta_i}{\\partial \\beta_j}$.\n",
    "\n",
    "4. Express $\\mu_i$ in terms of $\\theta_i$, and use this relationship to compute $\\frac{\\partial \\theta_i}{\\partial \\mu_i}$. (\\emph{Hint}: Recall the cumulant function of a natural exponential family, and assume that you can write $\\partial f/\\partial g = (\\partial g / \\partial f)^{-1}$.)\n",
    "\n",
    "5. Express $\\eta_i$ in terms of $\\mu_i$. Using the same hint as the above, compute $\\frac{\\partial \\mu_i}{\\partial \\eta_i}$.\n",
    "\n",
    "6. Put all of the above parts together to write an expression for $\\frac{\\partial l}{\\partial \\beta_j}$. Use matrix notation to write this expression as\n",
    "$$\\nabla_{\\beta} l(\\beta) = XDV^{-1}(Y - \\mu) = 0$$\n",
    "That is, compute the matrices $D$ and $V$ such that this equation holds.\n",
    "\n",
    "7. If we use the canonical link function, how do your answers to part (6) simplify?\n",
    "\n",
    "8. Finally, compute the above likelihood equations in the case of logistic regression, and show that this is equivalent to the solution given in lecture.\n"
   ]
  },
  {
   "cell_type": "code",
   "execution_count": null,
   "metadata": {
    "collapsed": true
   },
   "outputs": [],
   "source": []
  }
 ],
 "metadata": {
  "anaconda-cloud": {},
  "kernelspec": {
   "display_name": "Python 3",
   "language": "python",
   "name": "python3"
  },
  "language_info": {
   "codemirror_mode": {
    "name": "ipython",
    "version": 3
   },
   "file_extension": ".py",
   "mimetype": "text/x-python",
   "name": "python",
   "nbconvert_exporter": "python",
   "pygments_lexer": "ipython3",
   "version": "3.6.1"
  }
 },
 "nbformat": 4,
 "nbformat_minor": 1
}
