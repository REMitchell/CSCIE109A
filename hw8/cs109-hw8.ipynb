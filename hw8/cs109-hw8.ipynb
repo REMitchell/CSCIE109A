{
 "cells": [
  {
   "cell_type": "markdown",
   "metadata": {},
   "source": [
    "# CS 109A/STAT 121A/AC 209A/CSCI E-109A: Homework 8\n",
    "# Ensemble methods\n",
    "\n",
    "**Harvard University**<br/>\n",
    "**Fall 2017**<br/>\n",
    "**Instructors**: Pavlos Protopapas, Kevin Rader, Rahul Dave\n"
   ]
  },
  {
   "cell_type": "markdown",
   "metadata": {},
   "source": [
    "Import libraries:"
   ]
  },
  {
   "cell_type": "code",
   "execution_count": 3,
   "metadata": {
    "collapsed": true
   },
   "outputs": [],
   "source": [
    "import numpy as np\n",
    "import pandas as pd\n",
    "import matplotlib\n",
    "import matplotlib.pyplot as plt\n",
    "import sklearn.metrics as metrics\n",
    "from sklearn.model_selection import cross_val_score\n",
    "from sklearn import tree\n",
    "from sklearn.tree import DecisionTreeClassifier\n",
    "from sklearn.ensemble import RandomForestClassifier\n",
    "from sklearn.ensemble import AdaBoostClassifier\n",
    "from sklearn.linear_model import LogisticRegressionCV\n",
    "\n",
    "from sklearn.metrics import accuracy_score\n",
    "import time\n",
    "from scipy.stats import mode\n",
    "\n",
    "%matplotlib inline"
   ]
  },
  {
   "cell_type": "markdown",
   "metadata": {},
   "source": [
    "# Higgs Boson Discovery\n",
    "\n",
    "The discovery of the Higgs boson in July 2012 marked a fundamental breakthrough in particle physics. The Higgs boson particle was discovered through experiments at the Large Hadron Collider at CERN, by colliding beams of protons at high energy. A key challenge in analyzing the results of these experiments is to differentiate between a collision that produces Higgs bosons and collisions thats produce only background noise. We shall explore the use of ensemble methods for this classification task.\n",
    "\n",
    "You are provided with data from Monte-Carlo simulations of collisions of particles in a particle collider experiment. The training set is available in `Higgs_train.csv` and the test set is in `Higgs_test.csv`. Each row in these files corresponds to a particle colision described by 28 features (columns 1-28), of which the first 21 features are kinematic properties measured by the particle detectors in the accelerator, and the remaining features are derived by physicists from the the first 21 features. The class label is provided in the last column, with a label of 1 indicating that the collision produces Higgs bosons (signal), and a label of 0 indicating that the collision produces other particles (background). \n",
    "\n",
    "The data set provided to you is a small subset of the HIGGS data set in the UCI machine learning repository. The following paper contains further details about the data set and the predictors used: <a href = \"https://www.nature.com/articles/ncomms5308\">Baldi et al., Nature Communications 5, 2014</a>.\n"
   ]
  },
  {
   "cell_type": "markdown",
   "metadata": {},
   "source": [
    "## Question 1 (2pt): Single Decision Tree\n",
    "We start by building a basic model which we will use as our base model for comparison. \n",
    "\n",
    "1. Fit a decision tree model to the training set and report the classification accuracy of the model on the test set. Use 5-fold cross-validation to choose the (maximum) depth for the tree. You will use the max_depth you find here throughout the homework. \n"
   ]
  },
  {
   "cell_type": "code",
   "execution_count": 4,
   "metadata": {},
   "outputs": [
    {
     "data": {
      "text/html": [
       "<div>\n",
       "<style>\n",
       "    .dataframe thead tr:only-child th {\n",
       "        text-align: right;\n",
       "    }\n",
       "\n",
       "    .dataframe thead th {\n",
       "        text-align: left;\n",
       "    }\n",
       "\n",
       "    .dataframe tbody tr th {\n",
       "        vertical-align: top;\n",
       "    }\n",
       "</style>\n",
       "<table border=\"1\" class=\"dataframe\">\n",
       "  <thead>\n",
       "    <tr style=\"text-align: right;\">\n",
       "      <th></th>\n",
       "      <th>lepton pT</th>\n",
       "      <th>lepton eta</th>\n",
       "      <th>lepton phi</th>\n",
       "      <th>missing energy magnitude</th>\n",
       "      <th>missing energy phi</th>\n",
       "      <th>jet 1 pt</th>\n",
       "      <th>jet 1 eta</th>\n",
       "      <th>jet 1 phi</th>\n",
       "      <th>jet 1 b-tag</th>\n",
       "      <th>jet 2 pt</th>\n",
       "      <th>...</th>\n",
       "      <th>jet 4 phi</th>\n",
       "      <th>jet 4 b-tag</th>\n",
       "      <th>m_jj</th>\n",
       "      <th>m_jjj</th>\n",
       "      <th>m_lv</th>\n",
       "      <th>m_jlv</th>\n",
       "      <th>m_bb</th>\n",
       "      <th>m_wbb</th>\n",
       "      <th>m_wwbb</th>\n",
       "      <th>class</th>\n",
       "    </tr>\n",
       "  </thead>\n",
       "  <tbody>\n",
       "    <tr>\n",
       "      <th>count</th>\n",
       "      <td>5000.000000</td>\n",
       "      <td>5000.000000</td>\n",
       "      <td>5000.000000</td>\n",
       "      <td>5000.000000</td>\n",
       "      <td>5000.000000</td>\n",
       "      <td>5000.000000</td>\n",
       "      <td>5000.000000</td>\n",
       "      <td>5000.000000</td>\n",
       "      <td>5000.000000</td>\n",
       "      <td>5000.000000</td>\n",
       "      <td>...</td>\n",
       "      <td>5000.000000</td>\n",
       "      <td>5000.000000</td>\n",
       "      <td>5000.000000</td>\n",
       "      <td>5000.000000</td>\n",
       "      <td>5000.000000</td>\n",
       "      <td>5000.000000</td>\n",
       "      <td>5000.000000</td>\n",
       "      <td>5000.000000</td>\n",
       "      <td>5000.000000</td>\n",
       "      <td>5000.000000</td>\n",
       "    </tr>\n",
       "    <tr>\n",
       "      <th>mean</th>\n",
       "      <td>0.978640</td>\n",
       "      <td>-0.014242</td>\n",
       "      <td>-0.018940</td>\n",
       "      <td>1.005780</td>\n",
       "      <td>0.002530</td>\n",
       "      <td>0.980407</td>\n",
       "      <td>0.025035</td>\n",
       "      <td>-0.007136</td>\n",
       "      <td>0.994617</td>\n",
       "      <td>0.988662</td>\n",
       "      <td>...</td>\n",
       "      <td>0.003368</td>\n",
       "      <td>1.008448</td>\n",
       "      <td>1.038472</td>\n",
       "      <td>1.027210</td>\n",
       "      <td>1.054741</td>\n",
       "      <td>1.023142</td>\n",
       "      <td>0.958457</td>\n",
       "      <td>1.033427</td>\n",
       "      <td>0.960473</td>\n",
       "      <td>0.524600</td>\n",
       "    </tr>\n",
       "    <tr>\n",
       "      <th>std</th>\n",
       "      <td>0.547021</td>\n",
       "      <td>1.011918</td>\n",
       "      <td>0.997988</td>\n",
       "      <td>0.591891</td>\n",
       "      <td>1.003353</td>\n",
       "      <td>0.463663</td>\n",
       "      <td>1.002021</td>\n",
       "      <td>1.014606</td>\n",
       "      <td>1.030335</td>\n",
       "      <td>0.476439</td>\n",
       "      <td>...</td>\n",
       "      <td>1.008882</td>\n",
       "      <td>1.401732</td>\n",
       "      <td>0.619626</td>\n",
       "      <td>0.353993</td>\n",
       "      <td>0.173192</td>\n",
       "      <td>0.427188</td>\n",
       "      <td>0.495710</td>\n",
       "      <td>0.352967</td>\n",
       "      <td>0.306009</td>\n",
       "      <td>0.499444</td>\n",
       "    </tr>\n",
       "    <tr>\n",
       "      <th>min</th>\n",
       "      <td>0.275063</td>\n",
       "      <td>-2.411601</td>\n",
       "      <td>-1.741953</td>\n",
       "      <td>0.010021</td>\n",
       "      <td>-1.742062</td>\n",
       "      <td>0.170481</td>\n",
       "      <td>-2.920213</td>\n",
       "      <td>-1.741237</td>\n",
       "      <td>0.000000</td>\n",
       "      <td>0.197668</td>\n",
       "      <td>...</td>\n",
       "      <td>-1.742136</td>\n",
       "      <td>0.000000</td>\n",
       "      <td>0.151059</td>\n",
       "      <td>0.442752</td>\n",
       "      <td>0.338730</td>\n",
       "      <td>0.370879</td>\n",
       "      <td>0.079460</td>\n",
       "      <td>0.412750</td>\n",
       "      <td>0.452206</td>\n",
       "      <td>0.000000</td>\n",
       "    </tr>\n",
       "    <tr>\n",
       "      <th>25%</th>\n",
       "      <td>0.586819</td>\n",
       "      <td>-0.763889</td>\n",
       "      <td>-0.877757</td>\n",
       "      <td>0.581321</td>\n",
       "      <td>-0.869805</td>\n",
       "      <td>0.676038</td>\n",
       "      <td>-0.658776</td>\n",
       "      <td>-0.884866</td>\n",
       "      <td>0.000000</td>\n",
       "      <td>0.665526</td>\n",
       "      <td>...</td>\n",
       "      <td>-0.869398</td>\n",
       "      <td>0.000000</td>\n",
       "      <td>0.798538</td>\n",
       "      <td>0.849911</td>\n",
       "      <td>0.985864</td>\n",
       "      <td>0.767558</td>\n",
       "      <td>0.671749</td>\n",
       "      <td>0.826300</td>\n",
       "      <td>0.772501</td>\n",
       "      <td>0.000000</td>\n",
       "    </tr>\n",
       "    <tr>\n",
       "      <th>50%</th>\n",
       "      <td>0.845502</td>\n",
       "      <td>-0.009307</td>\n",
       "      <td>-0.016055</td>\n",
       "      <td>0.903459</td>\n",
       "      <td>0.001296</td>\n",
       "      <td>0.890926</td>\n",
       "      <td>0.049486</td>\n",
       "      <td>-0.023503</td>\n",
       "      <td>1.086538</td>\n",
       "      <td>0.891397</td>\n",
       "      <td>...</td>\n",
       "      <td>-0.004703</td>\n",
       "      <td>0.000000</td>\n",
       "      <td>0.898054</td>\n",
       "      <td>0.957433</td>\n",
       "      <td>0.989756</td>\n",
       "      <td>0.922169</td>\n",
       "      <td>0.868331</td>\n",
       "      <td>0.951904</td>\n",
       "      <td>0.877457</td>\n",
       "      <td>1.000000</td>\n",
       "    </tr>\n",
       "    <tr>\n",
       "      <th>75%</th>\n",
       "      <td>1.219481</td>\n",
       "      <td>0.725066</td>\n",
       "      <td>0.836731</td>\n",
       "      <td>1.303024</td>\n",
       "      <td>0.865695</td>\n",
       "      <td>1.163526</td>\n",
       "      <td>0.715911</td>\n",
       "      <td>0.893814</td>\n",
       "      <td>2.173076</td>\n",
       "      <td>1.195013</td>\n",
       "      <td>...</td>\n",
       "      <td>0.858842</td>\n",
       "      <td>3.101961</td>\n",
       "      <td>1.032753</td>\n",
       "      <td>1.091803</td>\n",
       "      <td>1.031178</td>\n",
       "      <td>1.155744</td>\n",
       "      <td>1.122398</td>\n",
       "      <td>1.143154</td>\n",
       "      <td>1.061552</td>\n",
       "      <td>1.000000</td>\n",
       "    </tr>\n",
       "    <tr>\n",
       "      <th>max</th>\n",
       "      <td>5.325748</td>\n",
       "      <td>2.427076</td>\n",
       "      <td>1.742681</td>\n",
       "      <td>6.259064</td>\n",
       "      <td>1.742935</td>\n",
       "      <td>4.185626</td>\n",
       "      <td>2.962743</td>\n",
       "      <td>1.741454</td>\n",
       "      <td>2.173076</td>\n",
       "      <td>4.800826</td>\n",
       "      <td>...</td>\n",
       "      <td>1.743372</td>\n",
       "      <td>3.101961</td>\n",
       "      <td>10.642818</td>\n",
       "      <td>5.735043</td>\n",
       "      <td>3.938281</td>\n",
       "      <td>6.220779</td>\n",
       "      <td>5.075656</td>\n",
       "      <td>4.324610</td>\n",
       "      <td>3.496444</td>\n",
       "      <td>1.000000</td>\n",
       "    </tr>\n",
       "  </tbody>\n",
       "</table>\n",
       "<p>8 rows × 29 columns</p>\n",
       "</div>"
      ],
      "text/plain": [
       "         lepton pT   lepton eta   lepton phi  missing energy magnitude  \\\n",
       "count  5000.000000  5000.000000  5000.000000               5000.000000   \n",
       "mean      0.978640    -0.014242    -0.018940                  1.005780   \n",
       "std       0.547021     1.011918     0.997988                  0.591891   \n",
       "min       0.275063    -2.411601    -1.741953                  0.010021   \n",
       "25%       0.586819    -0.763889    -0.877757                  0.581321   \n",
       "50%       0.845502    -0.009307    -0.016055                  0.903459   \n",
       "75%       1.219481     0.725066     0.836731                  1.303024   \n",
       "max       5.325748     2.427076     1.742681                  6.259064   \n",
       "\n",
       "       missing energy phi     jet 1 pt    jet 1 eta    jet 1 phi  jet 1 b-tag  \\\n",
       "count         5000.000000  5000.000000  5000.000000  5000.000000  5000.000000   \n",
       "mean             0.002530     0.980407     0.025035    -0.007136     0.994617   \n",
       "std              1.003353     0.463663     1.002021     1.014606     1.030335   \n",
       "min             -1.742062     0.170481    -2.920213    -1.741237     0.000000   \n",
       "25%             -0.869805     0.676038    -0.658776    -0.884866     0.000000   \n",
       "50%              0.001296     0.890926     0.049486    -0.023503     1.086538   \n",
       "75%              0.865695     1.163526     0.715911     0.893814     2.173076   \n",
       "max              1.742935     4.185626     2.962743     1.741454     2.173076   \n",
       "\n",
       "          jet 2 pt     ...         jet 4 phi  jet 4 b-tag         m_jj  \\\n",
       "count  5000.000000     ...       5000.000000  5000.000000  5000.000000   \n",
       "mean      0.988662     ...          0.003368     1.008448     1.038472   \n",
       "std       0.476439     ...          1.008882     1.401732     0.619626   \n",
       "min       0.197668     ...         -1.742136     0.000000     0.151059   \n",
       "25%       0.665526     ...         -0.869398     0.000000     0.798538   \n",
       "50%       0.891397     ...         -0.004703     0.000000     0.898054   \n",
       "75%       1.195013     ...          0.858842     3.101961     1.032753   \n",
       "max       4.800826     ...          1.743372     3.101961    10.642818   \n",
       "\n",
       "             m_jjj         m_lv        m_jlv         m_bb        m_wbb  \\\n",
       "count  5000.000000  5000.000000  5000.000000  5000.000000  5000.000000   \n",
       "mean      1.027210     1.054741     1.023142     0.958457     1.033427   \n",
       "std       0.353993     0.173192     0.427188     0.495710     0.352967   \n",
       "min       0.442752     0.338730     0.370879     0.079460     0.412750   \n",
       "25%       0.849911     0.985864     0.767558     0.671749     0.826300   \n",
       "50%       0.957433     0.989756     0.922169     0.868331     0.951904   \n",
       "75%       1.091803     1.031178     1.155744     1.122398     1.143154   \n",
       "max       5.735043     3.938281     6.220779     5.075656     4.324610   \n",
       "\n",
       "            m_wwbb        class  \n",
       "count  5000.000000  5000.000000  \n",
       "mean      0.960473     0.524600  \n",
       "std       0.306009     0.499444  \n",
       "min       0.452206     0.000000  \n",
       "25%       0.772501     0.000000  \n",
       "50%       0.877457     1.000000  \n",
       "75%       1.061552     1.000000  \n",
       "max       3.496444     1.000000  \n",
       "\n",
       "[8 rows x 29 columns]"
      ]
     },
     "execution_count": 4,
     "metadata": {},
     "output_type": "execute_result"
    }
   ],
   "source": [
    "data_test = pd.read_csv('./data/Higgs_test.csv')\n",
    "data_train = pd.read_csv('./data/Higgs_train.csv')\n",
    "ytest = data_test['class']\n",
    "ytrain = data_train['class']\n",
    "Xtest = data_test.copy().drop('class', 1)\n",
    "Xtrain = data_train.copy().drop('class', 1)\n",
    "data_train.describe()"
   ]
  },
  {
   "cell_type": "code",
   "execution_count": 5,
   "metadata": {},
   "outputs": [
    {
     "name": "stderr",
     "output_type": "stream",
     "text": [
      "/Users/sshaffer/anaconda/envs/py36/lib/python3.6/site-packages/sklearn/cross_validation.py:41: DeprecationWarning: This module was deprecated in version 0.18 in favor of the model_selection module into which all the refactored classes and functions are moved. Also note that the interface of the new CV iterators are different from that of this module. This module will be removed in 0.20.\n",
      "  \"This module will be removed in 0.20.\", DeprecationWarning)\n",
      "/Users/sshaffer/anaconda/envs/py36/lib/python3.6/site-packages/sklearn/grid_search.py:42: DeprecationWarning: This module was deprecated in version 0.18 in favor of the model_selection module into which all the refactored classes and functions are moved. This module will be removed in 0.20.\n",
      "  DeprecationWarning)\n"
     ]
    },
    {
     "name": "stdout",
     "output_type": "stream",
     "text": [
      "0.6402 {'max_depth': 5}\n"
     ]
    }
   ],
   "source": [
    "# Using Gridsearch to find optimal tree depth with 5-fold cross-validation\n",
    "from sklearn import grid_search\n",
    "parameters = {'max_depth':list(range(2,11))}\n",
    "dtc_gs_mod = grid_search.GridSearchCV(DecisionTreeClassifier(), \n",
    "                                   parameters, \n",
    "                                   cv = 5,\n",
    "                                   n_jobs=4)\n",
    "dtc_gs_mod.fit(Xtrain, ytrain)\n",
    "print (dtc_gs_mod.best_score_, dtc_gs_mod.best_params_) \n",
    "max_tree_depth = dtc_gs_mod.best_params_['max_depth']"
   ]
  },
  {
   "cell_type": "markdown",
   "metadata": {},
   "source": [
    "## Question 2 (15pt): Dropout-based Approach\n",
    "We start with a simple method inspired from the idea of 'dropout' in machine learning, where we fit multiple decision trees on random subsets of predictors, and combine them through a majority vote. The procedure is described below.\n",
    "\n",
    "- For each predictor in the training sample, set the predictor values to 0 with probability $p$  (i.e. drop the predictor by setting it to 0). Repeat this for $B$ trials to create $B$ separate training sets.\n",
    "\n",
    "\n",
    "- Fit decision tree models $\\hat{h}^1(x), \\ldots, \\hat{h}^B(x) \\in \\{0,1\\}$ to the $B$ training sets. \n",
    "\n",
    "- Combine the decision tree models into a single classifier by taking a majority vote:\n",
    "$$\n",
    "\\hat{H}_{maj}(x) \\,=\\, majority\\Big(\\hat{h}^1(x), \\ldots, \\hat{h}^B(x)\\Big).\n",
    "$$\n",
    "\n",
    "\n",
    "We shall refer to the combined classifier as an ** *ensemble classifier* **. Implement the described dropout approach, and answer the following questions:\n",
    "1. Apply the dropout procedure with $p = 0.5$ for different number of trees (say $2, 4, 8, 16, \\ldots, 256$), and evaluate the training and test accuracy of the combined classifier. Does an increase in the number of trees improve the training and test performance? Explain your observations in terms of the bias-variance trade-off for the classifier.\n",
    "- Fix the number of trees to 64 and apply the dropout procedure with different dropout rates $p = 0.1, 0.3, 0.5, 0.7, 0.9$. Based on your results, explain how the dropout rate influences the bias and variance of the combined classifier.\n",
    "- Apply 5-fold cross-validation to choose the optimal combination of the dropout rate and number of trees. How does the test performance of an ensemble of trees fitted with the optimal dropout rate and number of trees compare with the single decision tree model in Question 1?\n",
    "[hint: Training with large number of trees can take long time. You may need to restrict the max number of trees.]"
   ]
  },
  {
   "cell_type": "code",
   "execution_count": 9,
   "metadata": {},
   "outputs": [
    {
     "name": "stdout",
     "output_type": "stream",
     "text": [
      "Baseline Decision Tree performance with no limit on tree depth\n",
      "Train Accuracy: 1.0\n",
      "Test Accuracy:  0.6028\n",
      "\n",
      "Decision Tree performance with tree depth 5\n",
      "Train Accuracy: 0.682\n",
      "Test Accuracy:  0.6456\n"
     ]
    }
   ],
   "source": [
    "# Baseline Decision Tree performance with no limit on tree depth\n",
    "dtc_mod1 = DecisionTreeClassifier()\n",
    "dtc_mod1.fit(Xtrain, ytrain)\n",
    "print ('Baseline Decision Tree performance with no limit on tree depth')\n",
    "print ('Train Accuracy: {}'.format(accuracy_score(ytrain, dtc_mod1.predict(Xtrain))))\n",
    "print ('Test Accuracy:  {}'.format(accuracy_score(ytest, dtc_mod1.predict(Xtest))))\n",
    "\n",
    "# Baseline Decision Tree performance with tree depth set to max_tree_depth\n",
    "dtc_mod2 = DecisionTreeClassifier(max_depth = max_tree_depth)\n",
    "dtc_mod2.fit(Xtrain, ytrain)\n",
    "print ('\\nDecision Tree performance with tree depth {}'.format(max_tree_depth))\n",
    "print ('Train Accuracy: {}'.format(accuracy_score(ytrain, dtc_mod2.predict(Xtrain))))\n",
    "print ('Test Accuracy:  {}'.format(accuracy_score(ytest, dtc_mod2.predict(Xtest))))\n"
   ]
  },
  {
   "cell_type": "code",
   "execution_count": 10,
   "metadata": {
    "collapsed": true
   },
   "outputs": [],
   "source": [
    "def create_train_sets(Xtrain, num_trees, drop_prob):\n",
    "#  Create b training sets\n",
    "#  For each training set, predictors are randomly zeroed out\n",
    "#  with probability 1.0 - drop_prob\n",
    "    B = {}\n",
    "    for tree in range(num_trees):\n",
    "        B[tree + 1] = Xtrain.copy()\n",
    "        for pred in list(B[tree + 1]):\n",
    "            # Iterate through predictors\n",
    "            if ( np.random.uniform() > 1.0 - drop_prob ):\n",
    "                # Zero out predictor column values if above \n",
    "                # probability threshold, 1.0 - drop_prob\n",
    "                B[tree + 1][pred] = 0\n",
    "    return B\n",
    "\n",
    "\n",
    "def ensemble_classifier (B, y, max_tree_depth):\n",
    "    # Fit Decision Tree Classifiers to the B training sets\n",
    "    H = {}\n",
    "    for key in B:\n",
    "        dtc_mod = DecisionTreeClassifier(max_depth = max_tree_depth)\n",
    "        H[key] = dtc_mod.fit(B[key], y)\n",
    "    # Return dict of B Decision Tree Classifiers\n",
    "    return H\n",
    "\n",
    "def pred_ensemble_classifier(x, e):\n",
    "    # Take the majority vote of the B decision tree models\n",
    "    a = np.array([])\n",
    "    # Make predictions for each classifier\n",
    "    for key in e:\n",
    "        p = e[key].predict(x)\n",
    "        if (key != 1):\n",
    "            a = np.append(a,p)\n",
    "        else:\n",
    "            a = p\n",
    "    # Dataframe containing predictions of all models (columnwise)\n",
    "    aa = {}\n",
    "    aa = a.reshape(len(x),len(e))\n",
    "    # Take majority vote via 'mode' fcn, ties are set to 0 by mode\n",
    "    return mode(aa, axis = 1)[0]"
   ]
  },
  {
   "cell_type": "code",
   "execution_count": 14,
   "metadata": {},
   "outputs": [
    {
     "data": {
      "image/png": "[encoded data removed]",
      "text/plain": [
       "<matplotlib.figure.Figure at 0x11e73ef60>"
      ]
     },
     "metadata": {},
     "output_type": "display_data"
    }
   ],
   "source": [
    "# Apply the dropout procedure with  p = 0.5 \n",
    "# for different number of trees (say  2,4,8,16,…,256),\n",
    "# and evaluate the training and test accuracy of the combined classifier. \n",
    "trees = list(np.power(2, range(1, 9)))  # Binary range of trees\n",
    "ensemble_mod_acc = {'test':[], 'train': [], 'train_one_tree': []}\n",
    "for tree in trees:\n",
    "    # Create Xtrain sets\n",
    "    Xtrain_set = {}\n",
    "    Xtrain_set = create_train_sets(Xtrain, num_trees = tree, drop_prob = 0.5)\n",
    "    # Monitor time to fit\n",
    "    start = time.time()\n",
    "    # Fit DTC models to the train sets\n",
    "    e = ensemble_classifier(Xtrain_set, ytrain, max_tree_depth)\n",
    "    totalTime = time.time() - start\n",
    "    train_pred = pred_ensemble_classifier(Xtrain, e)\n",
    "    test_pred  = pred_ensemble_classifier(Xtest, e)\n",
    "    ensemble_mod_acc['train'].append(accuracy_score(ytrain, train_pred))\n",
    "    ensemble_mod_acc['test'].append(accuracy_score(ytest,  test_pred))\n",
    "    \n",
    "plt.figure(figsize = (10, 10))\n",
    "plt.plot(trees, ensemble_mod_acc['train'], label='Train')\n",
    "plt.plot(trees, ensemble_mod_acc['test'], label='Test')\n",
    "plt.scatter(trees, ensemble_mod_acc['train'], c='k')\n",
    "plt.scatter(trees, ensemble_mod_acc['test'], c='k')\n",
    "plt.axis('tight')\n",
    "plt.xlabel('Number of Trees', fontsize = 14)\n",
    "plt.ylabel('Accuracy',   fontsize = 14)\n",
    "plt.legend(fontsize = 12)\n",
    "plt.title(\"Ensemble Classifier Model Accuracy Performance Plot:\\nTraining and Test Accuracy vs Number of Trees\",\n",
    "         fontsize = 15)\n",
    "plt.ylim(ymax = 1.0, ymin = 0.0)\n",
    "plt.show()"
   ]
  },
  {
   "cell_type": "code",
   "execution_count": 13,
   "metadata": {},
   "outputs": [
    {
     "data": {
      "image/png": "[encoded data removed]",
      "text/plain": [
       "<matplotlib.figure.Figure at 0x11bf59198>"
      ]
     },
     "metadata": {},
     "output_type": "display_data"
    }
   ],
   "source": [
    "# Fix the number of trees to 64 and apply the dropout procedure with \n",
    "# different dropout rates  p=0.1,0.3,0.5,0.7,0.9\n",
    "trees = 64  \n",
    "drop_probs = [0.1, 0.3 , 0.5, 0.7, 0.9]\n",
    "ensemble_mod_acc = {'test':[], 'train': []}\n",
    "for drop_prob in drop_probs:\n",
    "    # Create Xtrain sets\n",
    "    Xtrain_set = {}\n",
    "    Xtrain_set = create_train_sets(Xtrain, num_trees = trees, drop_prob = drop_prob)\n",
    "    # Monitor time to fit\n",
    "    start = time.time()\n",
    "    # Fit DTC models to the train sets\n",
    "    e = ensemble_classifier(Xtrain_set, ytrain, max_tree_depth)\n",
    "    totalTime = time.time() - start\n",
    "    train_pred = pred_ensemble_classifier(Xtrain, e)\n",
    "    test_pred  = pred_ensemble_classifier(Xtest, e)\n",
    "    ensemble_mod_acc['train'].append(accuracy_score(ytrain, train_pred))\n",
    "    ensemble_mod_acc['test'].append(accuracy_score(ytest,  test_pred))\n",
    "\n",
    "\n",
    "plt.figure(figsize = (10, 10))\n",
    "plt.plot(drop_probs, ensemble_mod_acc['train'], label='Train')\n",
    "plt.plot(drop_probs, ensemble_mod_acc['test'], label='Test')\n",
    "plt.scatter(drop_probs, ensemble_mod_acc['train'], c='k')\n",
    "plt.scatter(drop_probs, ensemble_mod_acc['test'], c='k')\n",
    "plt.axis('tight')\n",
    "plt.xlabel('Drop Probability', fontsize = 14)\n",
    "plt.ylabel('Accuracy',   fontsize = 14)\n",
    "plt.legend(fontsize = 12)\n",
    "plt.title(\"Ensemble Classifier Model Accuracy Performance Plot:\\nTraining and Test Accuracy vs Drop Probability\",\n",
    "         fontsize = 15)\n",
    "plt.ylim(ymax = 1.0, ymin = 0.0)\n",
    "plt.show()"
   ]
  },
  {
   "cell_type": "markdown",
   "metadata": {},
   "source": [
    "#### Q: Does an increase in the number of trees improve the training and test performance? Explain your observations in terms of the bias-variance trade-off for the classifier.\n",
    "\n",
    "From examining the 'Training and Test Accuracy vs Number of Trees' plot above, performance is almost identical for both training and test sets at 0.5, regardless of the number of trees.\n",
    "\n",
    "The model exhibits high bias, achieving subpar performance at 0.5 (compared to a single decision tree model) for both training and test and low variance, where training and test almost identical.\n",
    "\n",
    "Training and test accuracy is significantly lower compare to a single decision tree, 1.0 and 0.60, respectively, though, clearly a single decision tree overfits to the train set.\n",
    "\n",
    "\n",
    "#### Q: Based on your results, explain how the dropout rate influences the bias and variance of the combined classifier.\n",
    "\n",
    "As the 'Training and Test Accuracy vs Drop Probability' plot shows, similar results were observed as with the 'Training and Test Accuracy vs Number of Trees' plot where performance is almost identical for both training and test sets at 0.5, regardless of the number of trees.\n",
    "\n",
    "#### Q: How does the test performance of an ensemble of trees fitted with the optimal dropout rate and number of trees compare with the single decision tree model in Question 1? [hint: Training with large number of trees can take long time. You may need to restrict the max number of trees.]"
   ]
  },
  {
   "cell_type": "markdown",
   "metadata": {},
   "source": [
    "## Question 3 (15pt): Random Forests\n",
    "\n",
    "We now move to a more sophisticated ensemble technique, namely random forest:\n",
    "1. How does a random forest approach differ from the dropout procedure described in Question 2? \n",
    " \n",
    "- Fit random forest models to the training set for different number of trees (say $2, 4, 8, 16, \\ldots, 256$), and evaluate the training and test accuracies of the models. You may set the number of predictors for each tree in the random forest model to $\\sqrt{p}$, where $p$ is the total number of predictors. \n",
    "\n",
    "- Based on your results, do you find that a larger number of trees necessarily improves the test accuracy of a random forest model? Explain how the number of trees effects the training and test accuracy of a random forest classifier, and how this relates to the bias-variance trade-off for the classifier. \n",
    "  \n",
    "- Fixing the number of trees to a reasonable value, apply 5-fold cross-validation to choose the optimal value for the  number of predictors. How does the test performance of random forest model fitted with the optimal number of trees compare with the dropout approach in Question 2?  \n",
    "\n",
    "\n",
    "\n"
   ]
  },
  {
   "cell_type": "code",
   "execution_count": 14,
   "metadata": {},
   "outputs": [
    {
     "data": {
      "image/png": "[encoded data removed]",
      "text/plain": [
       "<matplotlib.figure.Figure at 0x102c13ef0>"
      ]
     },
     "metadata": {},
     "output_type": "display_data"
    }
   ],
   "source": [
    "# Fit random forest models to the training set for different number of trees \n",
    "# (say  2,4,8,16,…,256), and evaluate the training and test accuracies of the models. \n",
    "\n",
    "trees = list(np.power(2, range(1, 9)))  # Binary range of trees\n",
    "rf_mod_acc = {'test':[], 'train': []}\n",
    "for tree in trees:\n",
    "    # Create Xtrain sets\n",
    "    num_pred = np.int(np.sqrt(len(list(Xtrain))))\n",
    "    rf_mod = RandomForestClassifier(n_estimators = tree)\n",
    "    # Fit RF model to the train set\n",
    "    rf_mod.fit(Xtrain, ytrain)\n",
    "    rf_mod_acc['train'].append(rf_mod.score(Xtrain, ytrain))\n",
    "    rf_mod_acc['test'].append(rf_mod.score(Xtest, ytest))\n",
    "\n",
    "\n",
    "plt.figure(figsize = (10, 10))\n",
    "plt.plot(trees, rf_mod_acc['train'], label='Train')\n",
    "plt.plot(trees, rf_mod_acc['test'], label='Test')\n",
    "plt.scatter(trees, rf_mod_acc['train'], c='k')\n",
    "plt.scatter(trees, rf_mod_acc['test'], c='k')\n",
    "plt.axis('tight')\n",
    "plt.xlabel('Tree Depth', fontsize = 14)\n",
    "plt.ylabel('Accuracy',   fontsize = 14)\n",
    "plt.legend(fontsize = 12)\n",
    "plt.title(\"Random Forest Model Accuracy Performance Plot:\\nTraining and Test Accuracy vs Number of Trees\",\n",
    "         fontsize = 15)\n",
    "plt.show()"
   ]
  },
  {
   "cell_type": "code",
   "execution_count": 40,
   "metadata": {},
   "outputs": [
    {
     "name": "stdout",
     "output_type": "stream",
     "text": [
      "0.6898 {'max_features': 8}\n"
     ]
    }
   ],
   "source": [
    "# Using Gridsearch to find optimal tree depth with 5-fold cross-validation\n",
    "# Fixing the number of trees to a reasonable value, apply 5-fold cross-validation to \n",
    "# choose the optimal value for the number of predictors.\n",
    "parameters = {'max_features':[2,3,4,5,6,7,8,9,10,11,12,13,14,15]}\n",
    "rf_gs_mod = grid_search.GridSearchCV(RandomForestClassifier(n_estimators = 100), \n",
    "                                   parameters, \n",
    "                                   cv = 5,\n",
    "                                   n_jobs=4)\n",
    "rf_gs_mod.fit(Xtrain, ytrain)\n",
    "print (rf_gs_mod.best_score_, rf_gs_mod.best_params_) \n"
   ]
  },
  {
   "cell_type": "markdown",
   "metadata": {},
   "source": [
    "#### Q: How does a random forest approach differ from the dropout procedure described in Question 2?\n",
    "\n",
    "For each dropout model, multiple decision trees were created, each with its own random subset of predictors.  The random forest approach differs from the dropout model in that a random subset of features is selected at each candidate split during the random forest learning process. \n",
    "\n",
    "#### Q: Based on your results, do you find that a larger number of trees necessarily improves the test accuracy of a random forest model? \n",
    "\n",
    "Yes, in that test accuracy monotonically increases, with diminishing returns, as it approaches an asymptotic limit of ~0.7 as the number of trees in the random forest model is increased.  \n",
    "\n",
    "#### Explain how the number of trees effects the training and test accuracy of a random forest classifier, and how this relates to the bias-variance trade-off for the classifier.\n",
    "\n",
    "Training set accuracy quickly approaches and remains at 1.0 as the number of trees is increased.  Test set accuracy also jumps up quickly, though at a less rapid rate than the training set, to its peak value of 0.7, as the number of trees increasing.  While the train set is perfectly fit, overfitting doesn't occur because test performance keeps increasing as described.\n",
    "\n",
    "While there is a larger gap between training and test performance, bias is lower for both training (perfect prediction is achieved fairly quickly) and test (it performs better than the dropout and single decision tree models).  Model stability (variance) is improved in that test performance never decreases with as more models (trees) are considered to build a consensus estimate.\n",
    "\n",
    "\n",
    "#### Q: How does the test performance of random forest model fitted with the optimal number of trees compare with the dropout approach in Question 2?\n"
   ]
  },
  {
   "cell_type": "markdown",
   "metadata": {},
   "source": [
    "## Question 4 (15pt): Boosting\n",
    "\n",
    "We next compare the random forest model with the approach of boosting:\n",
    "\n",
    "\n",
    "1. Apply the AdaBoost algorithm to fit an ensemble of decision trees. Set the learning rate to 0.05, and try out different tree depths for the base learners: 1, 2, 10, and unrestricted depth.  Make a plot of the training accuracy of the ensemble classifier as a function of tree depths. Make a similar plot of the test accuracies as a function of number of trees (say $2, 4, 8, 16, \\ldots, 256$).\n",
    "- How does the number of trees influence the training and test performance? Compare and contrast between the trends you see in the training and test performance of AdaBoost and that of the random forest models in Question 3. Give an explanation for your observations.\n",
    "- How does the tree depth of the base learner impact the training and test performance? Recall that with random forests, we allow the depth of the individual trees to be unrestricted. Would you recommend the same strategy for boosting? Explain your answer.\n",
    "- Apply 5-fold cross-validation to choose the optimal number of trees $B$ for the ensemble and the optimal tree depth for the base learners. How does an ensemble classifier fitted with the optimal number of trees and the optimal tree depth compare with the random forest model fitted in Question 3.4? \n",
    "\n"
   ]
  },
  {
   "cell_type": "code",
   "execution_count": 31,
   "metadata": {},
   "outputs": [
    {
     "data": {
      "image/png": "[encoded data removed]",
      "text/plain": [
       "<matplotlib.figure.Figure at 0x11a723978>"
      ]
     },
     "metadata": {},
     "output_type": "display_data"
    }
   ],
   "source": [
    "depths = [1, 2, 10, None]\n",
    "tree_nums = [2,4,8,16,32,64,128,256, 512]\n",
    "\n",
    "scores = []\n",
    "for depth in depths:\n",
    "    depth_scores = []\n",
    "    for tree_num in tree_nums:\n",
    "        dtc = DecisionTreeClassifier(max_depth=depth)\n",
    "        ada = AdaBoostClassifier(dtc, learning_rate=0.05, n_estimators=tree_num)\n",
    "        ada.fit(Xtrain, ytrain)\n",
    "        depth_scores.append(ada.score(Xtest, ytest))\n",
    "    scores.append(depth_scores)\n",
    "plt.title('AdaBoost DecisionTree Scores by depth, num classifiers')\n",
    "plt.xlabel('Tree Depth')\n",
    "plt.ylabel('Score')\n",
    "plt.plot(tree_nums, scores[0], label='depth 1')\n",
    "plt.plot(tree_nums, scores[1], label='depth 2')\n",
    "plt.plot(tree_nums, scores[2], label='depth 10')\n",
    "plt.plot(tree_nums, scores[3], label='Unlimited depth')\n",
    "plt.legend(fontsize = 12)\n",
    "plt.show()"
   ]
  },
  {
   "cell_type": "code",
   "execution_count": 13,
   "metadata": {},
   "outputs": [
    {
     "name": "stdout",
     "output_type": "stream",
     "text": [
      "0.6842 {'base_estimator__max_depth': 2, 'n_estimators': 256}\n",
      "RESULTS\n"
     ]
    },
    {
     "ename": "AttributeError",
     "evalue": "'GridSearchCV' object has no attribute 'cv_results_'",
     "output_type": "error",
     "traceback": [
      "\u001b[0;31m---------------------------------------------------------------------------\u001b[0m",
      "\u001b[0;31mAttributeError\u001b[0m                            Traceback (most recent call last)",
      "\u001b[0;32m<ipython-input-13-43a6888358cd>\u001b[0m in \u001b[0;36m<module>\u001b[0;34m()\u001b[0m\n\u001b[1;32m      9\u001b[0m \u001b[0;34m\u001b[0m\u001b[0m\n\u001b[1;32m     10\u001b[0m \u001b[0mprint\u001b[0m\u001b[0;34m(\u001b[0m\u001b[0;34m\"RESULTS\"\u001b[0m\u001b[0;34m)\u001b[0m\u001b[0;34m\u001b[0m\u001b[0m\n\u001b[0;32m---> 11\u001b[0;31m \u001b[0mprint\u001b[0m\u001b[0;34m(\u001b[0m\u001b[0mdtc_gs\u001b[0m\u001b[0;34m.\u001b[0m\u001b[0mcv_results_\u001b[0m\u001b[0;34m)\u001b[0m\u001b[0;34m\u001b[0m\u001b[0m\n\u001b[0m",
      "\u001b[0;31mAttributeError\u001b[0m: 'GridSearchCV' object has no attribute 'cv_results_'"
     ]
    }
   ],
   "source": [
    "from sklearn import grid_search\n",
    "\n",
    "parameters = {'base_estimator__max_depth': depths, 'n_estimators': tree_nums}\n",
    "dtc = DecisionTreeClassifier()\n",
    "abc = AdaBoostClassifier(base_estimator=dtc, learning_rate=0.05)\n",
    "dtc_gs = grid_search.GridSearchCV(abc, param_grid = parameters, cv = 5, n_jobs=4)\n",
    "dtc_gs.fit(Xtrain, ytrain)\n",
    "print (dtc_gs.best_score_, dtc_gs.best_params_) \n"
   ]
  },
  {
   "cell_type": "code",
   "execution_count": 34,
   "metadata": {},
   "outputs": [
    {
     "data": {
      "image/png": "[encoded data removed]",
      "text/plain": [
       "<matplotlib.figure.Figure at 0x1269fa128>"
      ]
     },
     "metadata": {},
     "output_type": "display_data"
    }
   ],
   "source": [
    "# Apply the AdaBoost algorithm to fit an ensemble of decision trees. \n",
    "# Make a similar plot of the test accuracies as a function of number of trees \n",
    "#(say  2,4,8,16,…,256).\n",
    "\n",
    "trees = list(np.power(2, range(1, 9)))  # Binary range of trees\n",
    "ada_mod_acc = {'test':[], 'train': []}\n",
    "for tree in trees:\n",
    "    ada_mod = AdaBoostClassifier(base_estimator = DecisionTreeClassifier(),\n",
    "                                 n_estimators = tree,\n",
    "                                 learning_rate = 0.05)\n",
    "    ada_mod.fit(Xtrain, ytrain)\n",
    "    ada_mod_acc['train'].append(ada_mod.score(Xtrain, ytrain))\n",
    "    ada_mod_acc['test'].append(ada_mod.score(Xtest, ytest))\n",
    "\n",
    "\n",
    "plt.figure(figsize = (10, 10))\n",
    "plt.plot(trees, ada_mod_acc['train'], label='Train')\n",
    "plt.plot(trees, ada_mod_acc['test'], label='Test')\n",
    "plt.scatter(trees, ada_mod_acc['train'], c='k')\n",
    "plt.scatter(trees, ada_mod_acc['test'], c='k')\n",
    "plt.axis('tight')\n",
    "plt.xlabel('Number of Trees', fontsize = 14)\n",
    "plt.ylabel('Accuracy',   fontsize = 14)\n",
    "plt.legend(fontsize = 12)\n",
    "plt.title(\"AdaBoost Model Accuracy Performance Plot:\\nTraining and Test Accuracy vs Number of Trees\",\n",
    "         fontsize = 15)\n",
    "plt.show()"
   ]
  },
  {
   "cell_type": "code",
   "execution_count": 54,
   "metadata": {},
   "outputs": [
    {
     "name": "stdout",
     "output_type": "stream",
     "text": [
      "0.6756 {'base_estimator__max_depth': 4, 'learning_rate': 0.05, 'n_estimators': 64}\n"
     ]
    }
   ],
   "source": [
    "# Apply 5-fold cross-validation to choose the optimal number of trees  B\n",
    "# for the ensemble and the optimal tree depth for the base learners.\n",
    "# Observation: GS will select the largest number of trees specified as the optima\n",
    "parameters = {'n_estimators':list(np.power(2, range(2, 8))), \n",
    "              'base_estimator__max_depth': list(range(4, 10, 2)), \n",
    "              'learning_rate':[0.05]}\n",
    "ada_gs_mod = grid_search.GridSearchCV(AdaBoostClassifier(base_estimator = DecisionTreeClassifier()), \n",
    "                                   parameters, \n",
    "                                   cv = 5,\n",
    "                                   n_jobs=4)\n",
    "\n",
    "ada_gs_mod.fit(Xtrain, ytrain)\n",
    "print (ada_gs_mod.best_score_, ada_gs_mod.best_params_) \n"
   ]
  },
  {
   "cell_type": "markdown",
   "metadata": {},
   "source": [
    "## Question 5 (3pt): Meta-classifier\n",
    "\n",
    "We have so far explored techniques that grow a collection of trees either by creating multiple copies of the original training set, or through a sequential procedure, and then combines these trees into a single classifier. Consider an alternate scenario where you are provided with a pre-trained collection of trees, say from different participants of a data science competition for Higgs boson discovery. What would be a good strategy to combine these pre-fitted trees into a single powerful classifier? Of course, a simple approach would be to take the majority vote from the individual trees. Can we do better than this simple combination strategy?\n",
    "\n",
    "A collection of 100 decision tree classifiers is provided in the file `models.npy` and can be loaded into an array by executing:\n",
    "\n",
    "`models = np.load('models.npy')`\n",
    "\n",
    "You can make predictions using the $i^\\text{th}$ model on an array of predictors `x` by executing:\n",
    "\n",
    "`model[i].predict(x)`  &nbsp;&nbsp;&nbsp;\n",
    "or &nbsp;&nbsp;&nbsp;\n",
    "`model[i].predict_proba(x)`\n",
    "\n",
    "and score the model on predictors `x` and labels `y` by using:\n",
    "\n",
    "`model[i].score(x, y)`.\n",
    "\n",
    "1. Implement a strategy to combine the provided decision tree classifiers, and compare the test perfomance of your approach with the majority vote classifier. Explain your strategy/algorithm.\n",
    "\n"
   ]
  },
  {
   "cell_type": "code",
   "execution_count": 16,
   "metadata": {},
   "outputs": [
    {
     "ename": "UnicodeError",
     "evalue": "Unpickling a python object failed: UnicodeDecodeError('ascii', b'\\x01\\x00\\x00\\x00\\x00\\x00\\x00\\x00\\x02\\x00\\x00\\x00\\x00\\x00\\x00\\x00\\x0b\\x00\\x00\\x00\\x00\\x00\\x00\\x00\\x00\\x00\\x00\\x80K\\xde\\xd2\\xbf\\xb8\\x1e\\x85\\xebQ\\xb8\\xde?\\x0f\\x00\\x00\\x00\\x00\\x00\\x00\\x00\\x00\\x00\\x00\\x00\\x00\\x00.@\\xff\\xff\\xff\\xff\\xff\\xff\\xff\\xff\\xff\\xff\\xff\\xff\\xff\\xff\\xff\\xff\\xfe\\xff\\xff\\xff\\xff\\xff\\xff\\xff\\x00\\x00\\x00\\x00\\x00\\x00\\x00\\xc0\\x00\\x00\\x00\\x00\\x00\\x00\\x00\\x00\\x05\\x00\\x00\\x00\\x00\\x00\\x00\\x00\\x00\\x00\\x00\\x00\\x00\\x00\\x14@\\x03\\x00\\x00\\x00\\x00\\x00\\x00\\x00\\x04\\x00\\x00\\x00\\x00\\x00\\x00\\x00\\r\\x00\\x00\\x00\\x00\\x00\\x00\\x00\\x00\\x00\\x00\\x80\\xd5\\x9d\\xe4?\\x0c\\xd7\\xa3p=\\n\\xc7?\\n\\x00\\x00\\x00\\x00\\x00\\x00\\x00\\x00\\x00\\x00\\x00\\x00\\x00$@\\xff\\xff\\xff\\xff\\xff\\xff\\xff\\xff\\xff\\xff\\xff\\xff\\xff\\xff\\xff\\xff\\xfe\\xff\\xff\\xff\\xff\\xff\\xff\\xff\\x00\\x00\\x00\\x00\\x00\\x00\\x00\\xc0\\x00\\x00\\x00\\x00\\x00\\x00\\x00\\x00\\x01\\x00\\x00\\x00\\x00\\x00\\x00\\x00\\x00\\x00\\x00\\x00\\x00\\x00\\xf0?\\xff\\xff\\xff\\xff\\xff\\xff\\xff\\xff\\xff\\xff\\xff\\xff\\xff\\xff\\xff\\xff\\xfe\\xff\\xff\\xff\\xff\\xff\\xff\\xff\\x00\\x00\\x00\\x00\\x00\\x00\\x00\\xc0\\x00\\x00\\x00\\x00\\x00\\x00\\x00\\x00\\t\\x00\\x00\\x00\\x00\\x00\\x00\\x00\\x00\\x00\\x00\\x00\\x00\\x00\"@', 27, 28, 'ordinal not in range(128)')\nYou may need to pass the encoding= option to numpy.load",
     "output_type": "error",
     "traceback": [
      "\u001b[0;31m---------------------------------------------------------------------------\u001b[0m",
      "\u001b[0;31mUnicodeDecodeError\u001b[0m                        Traceback (most recent call last)",
      "\u001b[0;32m~/anaconda3/lib/python3.5/site-packages/numpy/lib/format.py\u001b[0m in \u001b[0;36mread_array\u001b[0;34m(fp, allow_pickle, pickle_kwargs)\u001b[0m\n\u001b[1;32m    639\u001b[0m         \u001b[0;32mtry\u001b[0m\u001b[0;34m:\u001b[0m\u001b[0;34m\u001b[0m\u001b[0m\n\u001b[0;32m--> 640\u001b[0;31m             \u001b[0marray\u001b[0m \u001b[0;34m=\u001b[0m \u001b[0mpickle\u001b[0m\u001b[0;34m.\u001b[0m\u001b[0mload\u001b[0m\u001b[0;34m(\u001b[0m\u001b[0mfp\u001b[0m\u001b[0;34m,\u001b[0m \u001b[0;34m**\u001b[0m\u001b[0mpickle_kwargs\u001b[0m\u001b[0;34m)\u001b[0m\u001b[0;34m\u001b[0m\u001b[0m\n\u001b[0m\u001b[1;32m    641\u001b[0m         \u001b[0;32mexcept\u001b[0m \u001b[0mUnicodeError\u001b[0m \u001b[0;32mas\u001b[0m \u001b[0merr\u001b[0m\u001b[0;34m:\u001b[0m\u001b[0;34m\u001b[0m\u001b[0m\n",
      "\u001b[0;31mUnicodeDecodeError\u001b[0m: 'ascii' codec can't decode byte 0x80 in position 27: ordinal not in range(128)",
      "\nDuring handling of the above exception, another exception occurred:\n",
      "\u001b[0;31mUnicodeError\u001b[0m                              Traceback (most recent call last)",
      "\u001b[0;32m<ipython-input-16-ceb9a8414f7f>\u001b[0m in \u001b[0;36m<module>\u001b[0;34m()\u001b[0m\n\u001b[0;32m----> 1\u001b[0;31m \u001b[0mmodels\u001b[0m \u001b[0;34m=\u001b[0m \u001b[0mnp\u001b[0m\u001b[0;34m.\u001b[0m\u001b[0mload\u001b[0m\u001b[0;34m(\u001b[0m\u001b[0;34m'models.npy'\u001b[0m\u001b[0;34m)\u001b[0m\u001b[0;34m\u001b[0m\u001b[0m\n\u001b[0m",
      "\u001b[0;32m~/anaconda3/lib/python3.5/site-packages/numpy/lib/npyio.py\u001b[0m in \u001b[0;36mload\u001b[0;34m(file, mmap_mode, allow_pickle, fix_imports, encoding)\u001b[0m\n\u001b[1;32m    417\u001b[0m             \u001b[0;32melse\u001b[0m\u001b[0;34m:\u001b[0m\u001b[0;34m\u001b[0m\u001b[0m\n\u001b[1;32m    418\u001b[0m                 return format.read_array(fid, allow_pickle=allow_pickle,\n\u001b[0;32m--> 419\u001b[0;31m                                          pickle_kwargs=pickle_kwargs)\n\u001b[0m\u001b[1;32m    420\u001b[0m         \u001b[0;32melse\u001b[0m\u001b[0;34m:\u001b[0m\u001b[0;34m\u001b[0m\u001b[0m\n\u001b[1;32m    421\u001b[0m             \u001b[0;31m# Try a pickle\u001b[0m\u001b[0;34m\u001b[0m\u001b[0;34m\u001b[0m\u001b[0m\n",
      "\u001b[0;32m~/anaconda3/lib/python3.5/site-packages/numpy/lib/format.py\u001b[0m in \u001b[0;36mread_array\u001b[0;34m(fp, allow_pickle, pickle_kwargs)\u001b[0m\n\u001b[1;32m    644\u001b[0m                 raise UnicodeError(\"Unpickling a python object failed: %r\\n\"\n\u001b[1;32m    645\u001b[0m                                    \u001b[0;34m\"You may need to pass the encoding= option \"\u001b[0m\u001b[0;34m\u001b[0m\u001b[0m\n\u001b[0;32m--> 646\u001b[0;31m                                    \"to numpy.load\" % (err,))\n\u001b[0m\u001b[1;32m    647\u001b[0m             \u001b[0;32mraise\u001b[0m\u001b[0;34m\u001b[0m\u001b[0m\n\u001b[1;32m    648\u001b[0m     \u001b[0;32melse\u001b[0m\u001b[0;34m:\u001b[0m\u001b[0;34m\u001b[0m\u001b[0m\n",
      "\u001b[0;31mUnicodeError\u001b[0m: Unpickling a python object failed: UnicodeDecodeError('ascii', b'\\x01\\x00\\x00\\x00\\x00\\x00\\x00\\x00\\x02\\x00\\x00\\x00\\x00\\x00\\x00\\x00\\x0b\\x00\\x00\\x00\\x00\\x00\\x00\\x00\\x00\\x00\\x00\\x80K\\xde\\xd2\\xbf\\xb8\\x1e\\x85\\xebQ\\xb8\\xde?\\x0f\\x00\\x00\\x00\\x00\\x00\\x00\\x00\\x00\\x00\\x00\\x00\\x00\\x00.@\\xff\\xff\\xff\\xff\\xff\\xff\\xff\\xff\\xff\\xff\\xff\\xff\\xff\\xff\\xff\\xff\\xfe\\xff\\xff\\xff\\xff\\xff\\xff\\xff\\x00\\x00\\x00\\x00\\x00\\x00\\x00\\xc0\\x00\\x00\\x00\\x00\\x00\\x00\\x00\\x00\\x05\\x00\\x00\\x00\\x00\\x00\\x00\\x00\\x00\\x00\\x00\\x00\\x00\\x00\\x14@\\x03\\x00\\x00\\x00\\x00\\x00\\x00\\x00\\x04\\x00\\x00\\x00\\x00\\x00\\x00\\x00\\r\\x00\\x00\\x00\\x00\\x00\\x00\\x00\\x00\\x00\\x00\\x80\\xd5\\x9d\\xe4?\\x0c\\xd7\\xa3p=\\n\\xc7?\\n\\x00\\x00\\x00\\x00\\x00\\x00\\x00\\x00\\x00\\x00\\x00\\x00\\x00$@\\xff\\xff\\xff\\xff\\xff\\xff\\xff\\xff\\xff\\xff\\xff\\xff\\xff\\xff\\xff\\xff\\xfe\\xff\\xff\\xff\\xff\\xff\\xff\\xff\\x00\\x00\\x00\\x00\\x00\\x00\\x00\\xc0\\x00\\x00\\x00\\x00\\x00\\x00\\x00\\x00\\x01\\x00\\x00\\x00\\x00\\x00\\x00\\x00\\x00\\x00\\x00\\x00\\x00\\x00\\xf0?\\xff\\xff\\xff\\xff\\xff\\xff\\xff\\xff\\xff\\xff\\xff\\xff\\xff\\xff\\xff\\xff\\xfe\\xff\\xff\\xff\\xff\\xff\\xff\\xff\\x00\\x00\\x00\\x00\\x00\\x00\\x00\\xc0\\x00\\x00\\x00\\x00\\x00\\x00\\x00\\x00\\t\\x00\\x00\\x00\\x00\\x00\\x00\\x00\\x00\\x00\\x00\\x00\\x00\\x00\"@', 27, 28, 'ordinal not in range(128)')\nYou may need to pass the encoding= option to numpy.load"
     ]
    }
   ],
   "source": [
    "models = np.load('models.npy')"
   ]
  },
  {
   "cell_type": "markdown",
   "metadata": {},
   "source": [
    "#### Q: What would be a good strategy to combine these pre-fitted trees into a single powerful classifier? Of course, a simple approach would be to take the majority vote from the individual trees. Can we do better than this simple combination strategy?\n"
   ]
  },
  {
   "cell_type": "code",
   "execution_count": null,
   "metadata": {
    "collapsed": true
   },
   "outputs": [],
   "source": []
  }
 ],
 "metadata": {
  "anaconda-cloud": {},
  "kernelspec": {
   "display_name": "Python 3",
   "language": "python",
   "name": "python3"
  },
  "language_info": {
   "codemirror_mode": {
    "name": "ipython",
    "version": 3
   },
   "file_extension": ".py",
   "mimetype": "text/x-python",
   "name": "python",
   "nbconvert_exporter": "python",
   "pygments_lexer": "ipython3",
   "version": "3.5.4"
  },
  "latex_envs": {
   "bibliofile": "biblio.bib",
   "cite_by": "apalike",
   "current_citInitial": 1,
   "eqLabelWithNumbers": true,
   "eqNumInitial": 0
  }
 },
 "nbformat": 4,
 "nbformat_minor": 1
}
