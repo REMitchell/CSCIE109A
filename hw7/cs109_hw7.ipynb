{
 "cells": [
  {
   "cell_type": "markdown",
   "metadata": {},
   "source": [
    "# CS 109A/STAT 121A/AC 209A/CSCI E-109A: Homework 7\n",
    "# LDA/QDA and Decision Trees\n",
    "\n",
    "**Harvard University**<br/>\n",
    "**Fall 2017**<br/>\n",
    "**Instructors**: Pavlos Protopapas, Kevin Rader, Rahul Dave, Margo Levine\n",
    "\n",
    "---\n",
    "\n",
    "### INSTRUCTIONS\n",
    "\n",
    "- To submit your assignment follow the instructions given in canvas.\n",
    "- Restart the kernel and run the whole notebook again before you submit. \n",
    "- Do not include your name(s) in the notebook if you are submitting as a group. \n",
    "- If you submit individually and you have worked with someone, please include the name of your [one] partner below. \n",
    "\n",
    "---"
   ]
  },
  {
   "cell_type": "markdown",
   "metadata": {},
   "source": [
    "Your partner's name (if you submit separately):\n",
    "\n",
    "Enrollment Status (109A, 121A, 209A, or E109A):"
   ]
  },
  {
   "cell_type": "markdown",
   "metadata": {},
   "source": [
    "Import libraries:"
   ]
  },
  {
   "cell_type": "code",
   "execution_count": 1,
   "metadata": {},
   "outputs": [
    {
     "name": "stderr",
     "output_type": "stream",
     "text": [
      "/Users/sshaffer/anaconda/envs/py36/lib/python3.6/site-packages/sklearn/cross_validation.py:41: DeprecationWarning: This module was deprecated in version 0.18 in favor of the model_selection module into which all the refactored classes and functions are moved. Also note that the interface of the new CV iterators are different from that of this module. This module will be removed in 0.20.\n",
      "  \"This module will be removed in 0.20.\", DeprecationWarning)\n",
      "/Users/sshaffer/anaconda/envs/py36/lib/python3.6/site-packages/sklearn/grid_search.py:42: DeprecationWarning: This module was deprecated in version 0.18 in favor of the model_selection module into which all the refactored classes and functions are moved. This module will be removed in 0.20.\n",
      "  DeprecationWarning)\n"
     ]
    }
   ],
   "source": [
    "import numpy as np\n",
    "import pandas as pd\n",
    "import matplotlib\n",
    "import matplotlib.pyplot as plt\n",
    "from sklearn.linear_model import LogisticRegressionCV\n",
    "import sklearn.metrics as metrics\n",
    "from sklearn.preprocessing import PolynomialFeatures\n",
    "from sklearn.discriminant_analysis import LinearDiscriminantAnalysis as LDA\n",
    "from sklearn.discriminant_analysis import QuadraticDiscriminantAnalysis as QDA\n",
    "from sklearn.neighbors import KNeighborsClassifier\n",
    "from sklearn.tree import DecisionTreeClassifier\n",
    "from sklearn.model_selection import cross_val_score\n",
    "#import pydotplus\n",
    "#import io\n",
    "from sklearn.tree import export_graphviz\n",
    "from IPython.display import Image\n",
    "from IPython.display import display, Math, Latex\n",
    "from sklearn import grid_search\n",
    "%matplotlib inline"
   ]
  },
  {
   "cell_type": "markdown",
   "metadata": {},
   "source": [
    "\n",
    "## Multiclass Thyroid Classification\n",
    "\n",
    "In this problem, you will build a model for diagnosing disorders in a patient's thyroid gland. Given the results of medical tests on a patient, the task is to classify the patient either as:\n",
    "- *normal* (class 1)\n",
    "- having *hyperthyroidism* (class 2)\n",
    "- or having *hypothyroidism* (class 3). \n",
    "\n",
    "The data set is provided in the file `hw7_dataset.csv`. Columns 1-2 contain biomarkers for a patient (predictors):\n",
    "- Biomarker 1: (Logarithm of) level of basal thyroid-stimulating hormone (TSH) as measured by radioimmuno assay\n",
    "- Biomarker 2: (Logarithm of) maximal absolute difference of TSH value after injection of 200 micro grams of thyrotropin-releasing hormone as compared to the basal value.\n",
    "\n",
    "The last column contains the diagnosis for the patient from a medical expert. This data set was obtained from the UCI machine learning repository.\n",
    "\n",
    "Notice that unlike previous exercises, the task at hand is a 3-class classification problem. We will explore the use of different methods for multiclass classification.\n",
    "\n",
    "First task: split the data using the following code:"
   ]
  },
  {
   "cell_type": "code",
   "execution_count": 2,
   "metadata": {
    "collapsed": true
   },
   "outputs": [],
   "source": [
    "np.random.seed(9001)\n",
    "df = pd.read_csv('./data/hw7_dataset.csv')\n",
    "msk = np.random.rand(len(df)) < 0.5\n",
    "data_train = df[msk]\n",
    "data_test = df[~msk]"
   ]
  },
  {
   "cell_type": "code",
   "execution_count": 3,
   "metadata": {},
   "outputs": [
    {
     "name": "stdout",
     "output_type": "stream",
     "text": [
      "Shape of data_train: (102, 3)\n",
      "Shape of data_test:  (113, 3)\n"
     ]
    },
    {
     "data": {
      "text/html": [
       "<div>\n",
       "<style>\n",
       "    .dataframe thead tr:only-child th {\n",
       "        text-align: right;\n",
       "    }\n",
       "\n",
       "    .dataframe thead th {\n",
       "        text-align: left;\n",
       "    }\n",
       "\n",
       "    .dataframe tbody tr th {\n",
       "        vertical-align: top;\n",
       "    }\n",
       "</style>\n",
       "<table border=\"1\" class=\"dataframe\">\n",
       "  <thead>\n",
       "    <tr style=\"text-align: right;\">\n",
       "      <th></th>\n",
       "      <th>Biomarker 1</th>\n",
       "      <th>Biomarker 2</th>\n",
       "      <th>Diagnosis</th>\n",
       "    </tr>\n",
       "  </thead>\n",
       "  <tbody>\n",
       "    <tr>\n",
       "      <th>0</th>\n",
       "      <td>0.262372</td>\n",
       "      <td>0.875473</td>\n",
       "      <td>1.0</td>\n",
       "    </tr>\n",
       "    <tr>\n",
       "      <th>5</th>\n",
       "      <td>0.336479</td>\n",
       "      <td>1.098616</td>\n",
       "      <td>1.0</td>\n",
       "    </tr>\n",
       "    <tr>\n",
       "      <th>9</th>\n",
       "      <td>0.182330</td>\n",
       "      <td>-1.609488</td>\n",
       "      <td>2.0</td>\n",
       "    </tr>\n",
       "    <tr>\n",
       "      <th>12</th>\n",
       "      <td>-0.223131</td>\n",
       "      <td>0.788462</td>\n",
       "      <td>1.0</td>\n",
       "    </tr>\n",
       "    <tr>\n",
       "      <th>13</th>\n",
       "      <td>0.587792</td>\n",
       "      <td>1.458617</td>\n",
       "      <td>1.0</td>\n",
       "    </tr>\n",
       "  </tbody>\n",
       "</table>\n",
       "</div>"
      ],
      "text/plain": [
       "    Biomarker 1  Biomarker 2  Diagnosis\n",
       "0      0.262372     0.875473        1.0\n",
       "5      0.336479     1.098616        1.0\n",
       "9      0.182330    -1.609488        2.0\n",
       "12    -0.223131     0.788462        1.0\n",
       "13     0.587792     1.458617        1.0"
      ]
     },
     "metadata": {},
     "output_type": "display_data"
    },
    {
     "data": {
      "text/html": [
       "<div>\n",
       "<style>\n",
       "    .dataframe thead tr:only-child th {\n",
       "        text-align: right;\n",
       "    }\n",
       "\n",
       "    .dataframe thead th {\n",
       "        text-align: left;\n",
       "    }\n",
       "\n",
       "    .dataframe tbody tr th {\n",
       "        vertical-align: top;\n",
       "    }\n",
       "</style>\n",
       "<table border=\"1\" class=\"dataframe\">\n",
       "  <thead>\n",
       "    <tr style=\"text-align: right;\">\n",
       "      <th></th>\n",
       "      <th>Biomarker 1</th>\n",
       "      <th>Biomarker 2</th>\n",
       "      <th>Diagnosis</th>\n",
       "    </tr>\n",
       "  </thead>\n",
       "  <tbody>\n",
       "    <tr>\n",
       "      <th>count</th>\n",
       "      <td>102.000000</td>\n",
       "      <td>102.000000</td>\n",
       "      <td>102.000000</td>\n",
       "    </tr>\n",
       "    <tr>\n",
       "      <th>mean</th>\n",
       "      <td>0.344213</td>\n",
       "      <td>0.136095</td>\n",
       "      <td>1.392157</td>\n",
       "    </tr>\n",
       "    <tr>\n",
       "      <th>std</th>\n",
       "      <td>0.830087</td>\n",
       "      <td>2.201512</td>\n",
       "      <td>0.677164</td>\n",
       "    </tr>\n",
       "    <tr>\n",
       "      <th>min</th>\n",
       "      <td>-2.302485</td>\n",
       "      <td>-11.512925</td>\n",
       "      <td>1.000000</td>\n",
       "    </tr>\n",
       "    <tr>\n",
       "      <th>25%</th>\n",
       "      <td>-0.105349</td>\n",
       "      <td>-1.076236</td>\n",
       "      <td>1.000000</td>\n",
       "    </tr>\n",
       "    <tr>\n",
       "      <th>50%</th>\n",
       "      <td>0.222351</td>\n",
       "      <td>0.641859</td>\n",
       "      <td>1.000000</td>\n",
       "    </tr>\n",
       "    <tr>\n",
       "      <th>75%</th>\n",
       "      <td>0.470010</td>\n",
       "      <td>1.273894</td>\n",
       "      <td>2.000000</td>\n",
       "    </tr>\n",
       "    <tr>\n",
       "      <th>max</th>\n",
       "      <td>4.032469</td>\n",
       "      <td>3.970292</td>\n",
       "      <td>3.000000</td>\n",
       "    </tr>\n",
       "  </tbody>\n",
       "</table>\n",
       "</div>"
      ],
      "text/plain": [
       "       Biomarker 1  Biomarker 2   Diagnosis\n",
       "count   102.000000   102.000000  102.000000\n",
       "mean      0.344213     0.136095    1.392157\n",
       "std       0.830087     2.201512    0.677164\n",
       "min      -2.302485   -11.512925    1.000000\n",
       "25%      -0.105349    -1.076236    1.000000\n",
       "50%       0.222351     0.641859    1.000000\n",
       "75%       0.470010     1.273894    2.000000\n",
       "max       4.032469     3.970292    3.000000"
      ]
     },
     "metadata": {},
     "output_type": "display_data"
    }
   ],
   "source": [
    "print (\"Shape of data_train: \" + str(data_train.shape))\n",
    "print (\"Shape of data_test:  \"  + str(data_test.shape))\n",
    "display (data_train.head())\n",
    "display (data_train.describe())\n",
    "Xtrain = data_train[['Biomarker 1', 'Biomarker 2']]\n",
    "ytrain = data_train['Diagnosis']\n",
    "Xtest  = data_test[['Biomarker 1', 'Biomarker 2']]\n",
    "ytest  = data_test['Diagnosis']"
   ]
  },
  {
   "cell_type": "markdown",
   "metadata": {},
   "source": [
    "## Question 1: Fit Classification Models\n",
    "\n",
    "1. Generate a 2D scatter plot of the training set, denoting each class with a different color. Does it appear that the data points can be separated well by a linear classifier?\n",
    "\n",
    "2. Briefly explain the difference between multinomial logistic regression and one-vs-rest (OvR) logistic regression methods for fitting a multiclass classifier (in 2-3 sentences).\n",
    "\n",
    "3. Fit linear classification models on the thyroid data set using both the methods.  You should use $L_2$ regularization in both cases, tuning the regularization parameter using cross-validation.  Is there a difference in the overall classification accuracy of the two methods on the training and test sets?\n",
    "\n",
    "4. Also, compare the training and test accuracies of these models with the following classification methods:\n",
    "    - Multiclass Logistic Regression with quadratic terms \n",
    "    - Linear Discriminant Analysis\n",
    "    - Quadratic Discriminant Analysis\n",
    "    - k-Nearest Neighbors\n",
    "    <br>\n",
    "*Note:* you may use either the OvR or multinomial variant for the multiclass logistic regression (with $L_2$ regularization). Do not forget to use cross-validation to choose the regularization parameter, and also the number of neighbors in k-NN. \n",
    "\n",
    "5. Does the inclusion of the polynomial terms in logistic regression yield better test accuracy compared to the model with only linear terms? \n",
    "\n",
    "\n",
    "*Hint:* You may use the `KNeighborsClassifier` class to fit a k-NN classification model."
   ]
  },
  {
   "cell_type": "code",
   "execution_count": 4,
   "metadata": {},
   "outputs": [
    {
     "data": {
      "image/png": "[encoded data removed]",
      "text/plain": [
       "<matplotlib.figure.Figure at 0x10e8a9e10>"
      ]
     },
     "metadata": {},
     "output_type": "display_data"
    }
   ],
   "source": [
    "# Generate a 2D scatter plot of the training set, \n",
    "# denoting each class with a different color. \n",
    "\n",
    "categories   = list(data_train.Diagnosis.unique())\n",
    "colors       = ['blue', 'red', 'orange']\n",
    "color_labels = ['Class 1 - Normal',\n",
    "                'Class 2 - Hyperthyroidism',\n",
    "                'Class 3 - Hypothyroidism']\n",
    "plt.figure(figsize = (8,8))\n",
    "for ind1, category in enumerate(categories):\n",
    "    data_train_cat = (data_train[data_train.Diagnosis == category])\n",
    "    plt.plot(data_train_cat['Biomarker 1'], \n",
    "             data_train_cat['Biomarker 2'],\n",
    "             'ro',\n",
    "             color = colors[ind1],\n",
    "             label = color_labels[ind1]\n",
    "            )\n",
    "plt.xlabel('Biomarker 1', fontsize = 16, fontweight='bold')\n",
    "plt.ylabel('Biomarker 2', fontsize = 16, fontweight='bold')\n",
    "plt.title('2D scatter plot of the training set', fontsize = 16, fontweight='bold')\n",
    "plt.legend(loc = 'lower right')\n",
    "plt.show()"
   ]
  },
  {
   "cell_type": "code",
   "execution_count": 5,
   "metadata": {},
   "outputs": [
    {
     "name": "stdout",
     "output_type": "stream",
     "text": [
      "MLR Train Accuracy:  0.892156862745\n",
      "MLR Test Accuracy:   0.884955752212\n"
     ]
    }
   ],
   "source": [
    "# Multinomial Logistic Regression using LogisticRegressionCV with\n",
    "#   L2 regularization\n",
    "#   Multi_class option 'ovr'\n",
    "\n",
    "mlr_mod = LogisticRegressionCV(penalty='l2', multi_class='multinomial')                          \n",
    "mlr_mod.fit(Xtrain, ytrain)\n",
    "print (\"MLR Train Accuracy:  \" + str(mlr_mod.score(Xtrain, ytrain)))\n",
    "print (\"MLR Test Accuracy:   \" + str(mlr_mod.score(Xtest, ytest)))"
   ]
  },
  {
   "cell_type": "code",
   "execution_count": 6,
   "metadata": {},
   "outputs": [
    {
     "name": "stdout",
     "output_type": "stream",
     "text": [
      "OVR Train Accuracy:  0.843137254902\n",
      "OVR Test Accuracy:   0.840707964602\n"
     ]
    }
   ],
   "source": [
    "# One Vs Rest Classifier using LogisticRegressionCV with\n",
    "#   L2 regularization\n",
    "#   Multi_class option 'ovr'\n",
    "\n",
    "ovr_mod = LogisticRegressionCV(penalty='l2', multi_class='ovr')                            \n",
    "ovr_mod.fit(Xtrain, ytrain)\n",
    "print (\"OVR Train Accuracy:  \" + str(ovr_mod.score(Xtrain, ytrain)))\n",
    "print (\"OVR Test Accuracy:   \" + str(ovr_mod.score(Xtest, ytest)))"
   ]
  },
  {
   "cell_type": "code",
   "execution_count": 7,
   "metadata": {},
   "outputs": [
    {
     "name": "stdout",
     "output_type": "stream",
     "text": [
      "MLR Poly Train Accuracy:  0.892156862745\n",
      "MLR Poly Test Accuracy:   0.893805309735\n"
     ]
    }
   ],
   "source": [
    "# Multinomial Logistic Regression using LogisticRegressionCV with\n",
    "#   L2 regularization\n",
    "#   Multi_class option 'ovr'\n",
    "poly = PolynomialFeatures(degree=2)\n",
    "Xtrain_poly = poly.fit_transform(Xtrain)\n",
    "Xtest_poly = poly.fit_transform(Xtest)\n",
    "\n",
    "mlr_poly_mod = LogisticRegressionCV(penalty='l2', multi_class='multinomial')                          \n",
    "mlr_poly_mod.fit(Xtrain_poly, ytrain)\n",
    "print (\"MLR Poly Train Accuracy:  \" + str(mlr_poly_mod.score(Xtrain_poly, ytrain)))\n",
    "print (\"MLR Poly Test Accuracy:   \" + str(mlr_poly_mod.score(Xtest_poly, ytest)))\n"
   ]
  },
  {
   "cell_type": "code",
   "execution_count": 8,
   "metadata": {},
   "outputs": [
    {
     "name": "stdout",
     "output_type": "stream",
     "text": [
      "LDA Train Accuracy:  0.872549019608\n",
      "LDA Test Accuracy:   0.83185840708\n"
     ]
    }
   ],
   "source": [
    "#  Linear Discriminant Analysis\n",
    "lda_mod = LDA()\n",
    "lda_mod.fit(Xtrain, ytrain)\n",
    "print (\"LDA Train Accuracy:  \" + str(lda_mod.score(Xtrain, ytrain)))\n",
    "print (\"LDA Test Accuracy:   \" + str(lda_mod.score(Xtest, ytest)))"
   ]
  },
  {
   "cell_type": "code",
   "execution_count": 9,
   "metadata": {},
   "outputs": [
    {
     "name": "stdout",
     "output_type": "stream",
     "text": [
      "QDA Train Accuracy:  0.872549019608\n",
      "QDA Test Accuracy:   0.849557522124\n"
     ]
    }
   ],
   "source": [
    "# Quadratic Discriminant Analysis\n",
    "qda_mod = QDA()\n",
    "qda_mod.fit(Xtrain, ytrain)\n",
    "print (\"QDA Train Accuracy:  \" + str(qda_mod.score(Xtrain, ytrain)))\n",
    "print (\"QDA Test Accuracy:   \" + str(qda_mod.score(Xtest, ytest)))\n"
   ]
  },
  {
   "cell_type": "code",
   "execution_count": 10,
   "metadata": {},
   "outputs": [
    {
     "name": "stdout",
     "output_type": "stream",
     "text": [
      "0.8725490196078431 {'n_neighbors': 4}\n",
      "\n",
      "k-Nearest Neighbors Train Accuracy:  0.93137254902\n",
      "k-Nearest Neighbors Test Accuracy:   0.867256637168\n"
     ]
    }
   ],
   "source": [
    "# k-Nearest Neighbors \n",
    "# Using Gridsearch to find optimal n_neighbors with 5-fold cross-validation\n",
    "parameters = {'n_neighbors':list(range(2,20,2))}\n",
    "knc_mod = grid_search.GridSearchCV(KNeighborsClassifier(), \n",
    "                                   parameters, \n",
    "                                   cv = 5,\n",
    "                                   n_jobs=4)\n",
    "knc_mod.fit(Xtrain, ytrain)\n",
    "print (knc_mod.best_score_, knc_mod.best_params_) \n",
    "\n",
    "# Fit model with optimal 'n_neighbors' parameter\n",
    "knc_mod_best = KNeighborsClassifier(n_neighbors=3)\n",
    "knc_mod_best.fit(Xtrain, ytrain) \n",
    "\n",
    "print (\"\\nk-Nearest Neighbors Train Accuracy:  \" + str(knc_mod_best.score(Xtrain, ytrain)))\n",
    "print (\"k-Nearest Neighbors Test Accuracy:   \"   + str(knc_mod_best.score(Xtest, ytest)))"
   ]
  },
  {
   "cell_type": "markdown",
   "metadata": {},
   "source": [
    "#### Q: Does it appear that the data points can be separated well by a linear classifier?\n",
    "\n",
    "A linear classifier may give an adequate result, although a performance improvement may be seen by a non-linear separation between the class 1 and class 2 (red and blue, above) to separate between the major blobs at x=-1, and also to separate the class 1 points to the right of the the larger mass of class 2 points\n",
    "\n",
    "#### Q: Briefly explain the difference between multinomial logistic regression and one-vs-rest (OvR) logistic regression methods for fitting a multiclass classifier (in 2-3 sentences).\n",
    "\n",
    "\n",
    "\n",
    "**multinomial logistic regression**\n",
    "\n",
    "**one-vs-rest (OvR) logistic regression**\n",
    "\n",
    "\n",
    "#### Q: Is there a difference in the overall classification accuracy of the two methods on the training and test sets?\n",
    "\n",
    "#### Q: Compare the training and test accuracies of the following six (6) models:\n",
    "\n",
    "Classification Model|Train Accuracy|Test Accuracy\n",
    "    ---------------------------------------------------:|-------------:|-------------:|\n",
    "    Multinomial Logistic Regression|0.8922|0.8850|\n",
    "    one-vs-rest (OvR) logistic regression|0.8431|0.8407|\n",
    "    Multiclass Logistic Regression with quadratic terms|0.8922|0.8938|\n",
    "    Linear Discriminant Analysis|0.8725|0.8319|\n",
    "    Quadratic Discriminant Analysis|0.8725|0.8495|\n",
    "    k-Nearest Neighbors |0.9313|0.8673|\n",
    "    \n",
    "\n",
    "\n",
    "#### Q: Does the inclusion of the polynomial terms in logistic regression yield better test accuracy compared to the model with only linear terms?\n",
    "\n",
    "Test accuracy is marginally better, by 0.8%, with inclusion of the 2nd order polynomial terms."
   ]
  },
  {
   "cell_type": "markdown",
   "metadata": {},
   "source": [
    "## Question 2: Visualize Decision Boundaries\n",
    "\n",
    "The following code will allow you to visualize the decision boundaries of a given classification model."
   ]
  },
  {
   "cell_type": "code",
   "execution_count": 10,
   "metadata": {
    "collapsed": true
   },
   "outputs": [],
   "source": [
    "#--------  plot_decision_boundary\n",
    "# A function that visualizes the data and the decision boundaries\n",
    "# Input: \n",
    "#      x (predictors)\n",
    "#      y (labels)\n",
    "#      model (the classifier you want to visualize)\n",
    "#      title (title for plot)\n",
    "#      ax (a set of axes to plot on)\n",
    "#      poly_degree (highest degree of polynomial terms included in the model; None by default)\n",
    "\n",
    "def plot_decision_boundary(x, y, model, title, ax, poly_degree=None):\n",
    "    # Create mesh\n",
    "    # Interval of points for biomarker 1\n",
    "    #min0 = x[:,0].min()\n",
    "    #max0 = x[:,0].max()\n",
    "    min0 = Xtrain.iloc[:, [0]].min()\n",
    "    max0 = Xtrain.iloc[:, [0]].max()    \n",
    "    interval0 = np.arange(min0, max0, (max0-min0)/100)\n",
    "    n0 = np.size(interval0)\n",
    "    \n",
    "    # Interval of points for biomarker 2\n",
    "    #min1 = x[:,1].min()\n",
    "    #max1 = x[:,1].max()\n",
    "    min1 = Xtrain.iloc[:, [1]].min()\n",
    "    max1 = Xtrain.iloc[:, [1]].max() \n",
    "    interval1 = np.arange(min1, max1, (max1-min1)/100)\n",
    "    n1 = np.size(interval1)\n",
    "\n",
    "    # Create mesh grid of points\n",
    "    x1, x2 = np.meshgrid(interval0, interval1)\n",
    "    x1 = x1.reshape(-1,1)\n",
    "    x2 = x2.reshape(-1,1)\n",
    "    xx = np.concatenate((x1, x2), axis=1)\n",
    "\n",
    "    # Predict on mesh of points\n",
    "    # Check if polynomial terms need to be included\n",
    "    if(poly_degree!=None):\n",
    "        # Use PolynomialFeatures to generate polynomial terms\n",
    "        poly = PolynomialFeatures(poly_degree)\n",
    "        xx_ = poly.fit_transform(xx)\n",
    "        yy = model.predict(xx_) \n",
    "    else:   \n",
    "        yy = model.predict(xx)\n",
    "        \n",
    "    yy = yy.reshape((n0, n1))\n",
    "\n",
    "    # Plot decision surface\n",
    "    x1 = x1.reshape(n0, n1)\n",
    "    x2 = x2.reshape(n0, n1)\n",
    "    \n",
    "    print (ax)\n",
    "    \n",
    "    ax.contourf(x1, x2, yy, cmap=plt.cm.coolwarm, alpha=0.8)\n",
    "    \n",
    "    # Plot scatter plot of data\n",
    "    yy = y.reshape(-1,)\n",
    "    ax.scatter(x[yy==1,0], x[yy==1,1], c='blue', label='Normal', cmap=plt.cm.coolwarm)\n",
    "    ax.scatter(x[yy==2,0], x[yy==2,1], c='cyan', label='Hyper', cmap=plt.cm.coolwarm)\n",
    "    ax.scatter(x[yy==3,0], x[yy==3,1], c='red', label='Hypo', cmap=plt.cm.coolwarm)\n",
    "    \n",
    "    # Label axis, title\n",
    "    ax.set_title(title)\n",
    "    ax.set_xlabel('Biomarker 1')\n",
    "    ax.set_ylabel('Biomarker 2')"
   ]
  },
  {
   "cell_type": "code",
   "execution_count": 11,
   "metadata": {},
   "outputs": [
    {
     "ename": "NameError",
     "evalue": "name 'ax' is not defined",
     "output_type": "error",
     "traceback": [
      "\u001b[0;31m---------------------------------------------------------------------------\u001b[0m",
      "\u001b[0;31mNameError\u001b[0m                                 Traceback (most recent call last)",
      "\u001b[0;32m<ipython-input-11-4278147ebe40>\u001b[0m in \u001b[0;36m<module>\u001b[0;34m()\u001b[0m\n\u001b[1;32m      1\u001b[0m \u001b[0;31m# ax <-- What should ax be???\u001b[0m\u001b[0;34m\u001b[0m\u001b[0;34m\u001b[0m\u001b[0m\n\u001b[0;32m----> 2\u001b[0;31m \u001b[0mplot_decision_boundary\u001b[0m\u001b[0;34m(\u001b[0m\u001b[0mXtrain\u001b[0m\u001b[0;34m,\u001b[0m \u001b[0mytrain\u001b[0m\u001b[0;34m,\u001b[0m \u001b[0movr_mod\u001b[0m\u001b[0;34m,\u001b[0m \u001b[0;34m'LDA Model Decision Boundary'\u001b[0m\u001b[0;34m,\u001b[0m \u001b[0max\u001b[0m\u001b[0;34m,\u001b[0m \u001b[0mpoly_degree\u001b[0m \u001b[0;34m=\u001b[0m \u001b[0;32mNone\u001b[0m\u001b[0;34m)\u001b[0m\u001b[0;34m\u001b[0m\u001b[0m\n\u001b[0m",
      "\u001b[0;31mNameError\u001b[0m: name 'ax' is not defined"
     ]
    }
   ],
   "source": [
    "# ax <-- What should ax be???\n",
    "plot_decision_boundary(Xtrain, ytrain, ovr_mod, 'LDA Model Decision Boundary', ax, poly_degree = None)"
   ]
  },
  {
   "cell_type": "markdown",
   "metadata": {},
   "source": [
    "**Note:** The provided code uses `sklearn`'s `PolynomialFeatures` to generate higher-order polynomial terms, with degree `poly_degree`. \n",
    "Also, if you have loaded the data sets into `pandas` data frames, you may use the `as_matrix` function to obtain a `numpy` array from the data frame objects.\n",
    "\n",
    "1. Use the above code to visualize the decision boundaries for each of the model fitted in the previous part.\n",
    "2. Comment on the difference in the decision boundaries (if any) for the OvR and multinomial logistic regression models. Is there a difference between the decision boundaries for the linear logistic regression models and LDA. What about the decision boundaries for the quadratic logistic regression and QDA? Give an explanation for your answer."
   ]
  },
  {
   "cell_type": "markdown",
   "metadata": {},
   "source": [
    "## Question 3: Fit Decision Trees\n",
    "\n",
    "We next try out decision trees for thyroid classification. For the following questions, you may use the *Gini* index as the splitting criterion while fitting the decision tree. \n",
    "1. Fit a decision tree model to the thyroid data set with (maximum) tree depths 2, 3, ..., 10. Make plots of the training and test accuracies as a function of the tree depth. Is there a depth at which the fitted decision tree model achieves near-perfect classification on the training set? If so, what can you say about the test accuracy of this model?\n",
    "\n",
    "2. Use 5-fold cross-validation to find the optimal tree depth. How does the performance of a decision tree fitted with this depth compare with the models fitted in Part 2(a)?\n",
    "\n",
    "3. Use the code provided in Part 2(c) to visualize the decision boundary of the fitted decision tree. How is the decision boundary of the decision tree model different from the other methods? Given an explanation for your observation.\n",
    "\n",
    "4. Use the `export_graphviz` function in `sklearn` to generate a visualization of the tree diagram for the fitted model. Based on the visualization, explain *in words* how the fitted model diagnoses 'hypothyroidism' for a patient.  \n"
   ]
  },
  {
   "cell_type": "markdown",
   "metadata": {},
   "source": [
    "*Note:* Look at the `export_graphviz` function in the `sklearn.tree` module. \n",
    "\n",
    "You can get a graphic for this visualization by pasting the generated graphviz file in the text box at http://www.webgraphviz.com/ , or you can do it on your own computer.\n",
    "\n",
    "If you choose the do the latter, you will have to install `GraphViz` and `pydot` to use the decision tree rendering code. For this, you may execute the following commands in a terminal:\n",
    "\n",
    "`$pip install graphviz`<br>\n",
    "`$pip install pydot`\n",
    "\n",
    "*Hint:* You may use the `DecisionTreeClassifier` class to fit a decision tree classifier and the `max_depth` attribute to set the tree depth. You may use the `cross_val_score` function for cross-validation with decision trees."
   ]
  },
  {
   "cell_type": "code",
   "execution_count": 11,
   "metadata": {},
   "outputs": [
    {
     "data": {
      "image/png": "[encoded data removed]",
      "text/plain": [
       "<matplotlib.figure.Figure at 0x10e822f98>"
      ]
     },
     "metadata": {},
     "output_type": "display_data"
    }
   ],
   "source": [
    "# Fit a decision tree model to the thyroid data set with (maximum) tree depths 2, 3, ..., 10. \n",
    "# Make plots of the training and test accuracies as a function of the tree depth. \n",
    "tree_depths = range(2,11)\n",
    "dtc_mod_acc = {'test':[], 'train': []}\n",
    "for tree_depth in tree_depths:\n",
    "    dtc_mod = DecisionTreeClassifier(max_depth = tree_depth)\n",
    "    dtc_mod.fit(Xtrain, ytrain)\n",
    "    dtc_mod_acc['train'].append(dtc_mod.score(Xtrain, ytrain))\n",
    "    dtc_mod_acc['test'].append(dtc_mod.score(Xtest, ytest))\n",
    "\n",
    "plt.figure(figsize = (10, 10))\n",
    "plt.plot(tree_depths, dtc_mod_acc['train'], label='Train')\n",
    "plt.plot(tree_depths, dtc_mod_acc['test'], label='Test')\n",
    "plt.scatter(tree_depths, dtc_mod_acc['train'], c='k')\n",
    "plt.scatter(tree_depths, dtc_mod_acc['test'], c='k')\n",
    "plt.axis('tight')\n",
    "plt.xlabel('Tree Depth', fontsize = 14)\n",
    "plt.ylabel('Accuracy',   fontsize = 14)\n",
    "plt.legend(fontsize = 12)\n",
    "plt.title(\"Decision Tree Model Accuracy Performance Plot:\\nTraining and Test Accuracy vs Tree Depth\",\n",
    "         fontsize = 15)\n",
    "plt.show()\n"
   ]
  },
  {
   "cell_type": "code",
   "execution_count": 12,
   "metadata": {},
   "outputs": [
    {
     "name": "stdout",
     "output_type": "stream",
     "text": [
      "0.9117647058823529 {'max_depth': 2}\n"
     ]
    }
   ],
   "source": [
    "# Using Gridsearch to find optimal tree depth with 5-fold cross-validation\n",
    "from sklearn import grid_search\n",
    "parameters = {'max_depth':list(range(2,11))}\n",
    "dtc_gs_mod = grid_search.GridSearchCV(DecisionTreeClassifier(), \n",
    "                                   parameters, \n",
    "                                   cv = 5,\n",
    "                                   n_jobs=4)\n",
    "dtc_gs_mod.fit(Xtrain, ytrain)\n",
    "print (dtc_gs_mod.best_score_, dtc_gs_mod.best_params_) "
   ]
  },
  {
   "cell_type": "code",
   "execution_count": 13,
   "metadata": {},
   "outputs": [
    {
     "name": "stdout",
     "output_type": "stream",
     "text": [
      "2 0.91314650262\n"
     ]
    }
   ],
   "source": [
    "# Same thing as above but using cross_val_score\n",
    "tree_depths = range(2,11)\n",
    "dtc_mod_acc = {'test':[], 'train': []}\n",
    "score_ave = {}\n",
    "for tree_depth in tree_depths:\n",
    "    dtc_mod = DecisionTreeClassifier(max_depth = tree_depth)\n",
    "    # Perform 5-fold cross validation \n",
    "    scores = cross_val_score(estimator = dtc_mod,\n",
    "                             X = Xtrain,\n",
    "                             y = ytrain, \n",
    "                             cv = 5, \n",
    "                             n_jobs = 4)\n",
    "    score_ave[scores.mean()] = tree_depth\n",
    "print (score_ave[max(score_ave.keys())], max(score_ave.keys()))"
   ]
  },
  {
   "cell_type": "code",
   "execution_count": 14,
   "metadata": {},
   "outputs": [
    {
     "data": {
      "text/plain": [
       "DecisionTreeClassifier(class_weight=None, criterion='gini', max_depth=2,\n",
       "            max_features=None, max_leaf_nodes=None,\n",
       "            min_impurity_decrease=0.0, min_impurity_split=None,\n",
       "            min_samples_leaf=1, min_samples_split=2,\n",
       "            min_weight_fraction_leaf=0.0, presort=False, random_state=None,\n",
       "            splitter='best')"
      ]
     },
     "execution_count": 14,
     "metadata": {},
     "output_type": "execute_result"
    }
   ],
   "source": [
    "dtc_best_mod = DecisionTreeClassifier(max_depth = score_ave[max(score_ave.keys())])\n",
    "dtc_best_mod.fit(Xtrain, ytrain)"
   ]
  },
  {
   "cell_type": "code",
   "execution_count": 15,
   "metadata": {
    "collapsed": true
   },
   "outputs": [],
   "source": [
    "# Use the code provided in Part 2(c) to visualize the decision boundary of the fitted decision tree. "
   ]
  },
  {
   "cell_type": "code",
   "execution_count": null,
   "metadata": {
    "collapsed": true
   },
   "outputs": [],
   "source": []
  },
  {
   "cell_type": "markdown",
   "metadata": {},
   "source": [
    "#### Q: Is there a depth at which the fitted decision tree model achieves near-perfect classification on the training set? \n",
    "\n",
    "#### Q: If so, what can you say about the test accuracy of this model?\n",
    "\n",
    "#### Q: How does the performance of a decision tree fitted with this depth compare with the models fitted in Part 2(a)?\n",
    "\n",
    "#### Q: How is the decision boundary of the decision tree model different from the other methods? Given an explanation for your observation.\n",
    "\n",
    "#### Q: Based on the visualization, explain in words how the fitted model diagnoses 'hypothyroidism' for a patient."
   ]
  },
  {
   "cell_type": "code",
   "execution_count": 16,
   "metadata": {},
   "outputs": [
    {
     "data": {
      "image/svg+xml": [
       "<svg height=\"300pt\" viewBox=\"0.00 0.00 543.01 300.00\" width=\"543pt\" xmlns=\"http://www.w3.org/2000/svg\" xmlns:xlink=\"http://www.w3.org/1999/xlink\">\n",
       "<g class=\"graph\" id=\"graph0\" transform=\"scale(1 1) rotate(0) translate(4 296)\">\n",
       "<title>Tree</title>\n",
       "<polygon fill=\"white\" points=\"-4,4 -4,-296 539.013,-296 539.013,4 -4,4\" stroke=\"none\"/>\n",
       "<!-- 0 -->\n",
       "<g class=\"node\" id=\"node1\"><title>0</title>\n",
       "<path d=\"M334.749,-292C334.749,-292 203.157,-292 203.157,-292 197.157,-292 191.157,-286 191.157,-280 191.157,-280 191.157,-226 191.157,-226 191.157,-220 197.157,-214 203.157,-214 203.157,-214 334.749,-214 334.749,-214 340.749,-214 346.749,-220 346.749,-226 346.749,-226 346.749,-280 346.749,-280 346.749,-286 340.749,-292 334.749,-292\" fill=\"#e58139\" fill-opacity=\"0.654902\" stroke=\"black\"/>\n",
       "<text font-family=\"Helvetica,sans-Serif\" font-size=\"14.00\" text-anchor=\"middle\" x=\"268.953\" y=\"-276.8\">Biomarker 2 &lt;= -0.949</text>\n",
       "<text font-family=\"Helvetica,sans-Serif\" font-size=\"14.00\" text-anchor=\"middle\" x=\"268.953\" y=\"-262.8\">gini = 0.445</text>\n",
       "<text font-family=\"Helvetica,sans-Serif\" font-size=\"14.00\" text-anchor=\"middle\" x=\"268.953\" y=\"-248.8\">samples = 102</text>\n",
       "<text font-family=\"Helvetica,sans-Serif\" font-size=\"14.00\" text-anchor=\"middle\" x=\"268.953\" y=\"-234.8\">value = [73, 18, 11]</text>\n",
       "<text font-family=\"Helvetica,sans-Serif\" font-size=\"14.00\" text-anchor=\"middle\" x=\"268.953\" y=\"-220.8\">class = 1.0</text>\n",
       "</g>\n",
       "<!-- 1 -->\n",
       "<g class=\"node\" id=\"node2\"><title>1</title>\n",
       "<path d=\"M248.087,-178C248.087,-178 121.819,-178 121.819,-178 115.819,-178 109.819,-172 109.819,-166 109.819,-166 109.819,-112 109.819,-112 109.819,-106 115.819,-100 121.819,-100 121.819,-100 248.087,-100 248.087,-100 254.087,-100 260.087,-106 260.087,-112 260.087,-112 260.087,-166 260.087,-166 260.087,-172 254.087,-178 248.087,-178\" fill=\"#39e581\" fill-opacity=\"0.556863\" stroke=\"black\"/>\n",
       "<text font-family=\"Helvetica,sans-Serif\" font-size=\"14.00\" text-anchor=\"middle\" x=\"184.953\" y=\"-162.8\">Biomarker 1 &lt;= 0.222</text>\n",
       "<text font-family=\"Helvetica,sans-Serif\" font-size=\"14.00\" text-anchor=\"middle\" x=\"184.953\" y=\"-148.8\">gini = 0.426</text>\n",
       "<text font-family=\"Helvetica,sans-Serif\" font-size=\"14.00\" text-anchor=\"middle\" x=\"184.953\" y=\"-134.8\">samples = 26</text>\n",
       "<text font-family=\"Helvetica,sans-Serif\" font-size=\"14.00\" text-anchor=\"middle\" x=\"184.953\" y=\"-120.8\">value = [8, 18, 0]</text>\n",
       "<text font-family=\"Helvetica,sans-Serif\" font-size=\"14.00\" text-anchor=\"middle\" x=\"184.953\" y=\"-106.8\">class = 2.0</text>\n",
       "</g>\n",
       "<!-- 0&#45;&gt;1 -->\n",
       "<g class=\"edge\" id=\"edge1\"><title>0-&gt;1</title>\n",
       "<path d=\"M240.28,-213.769C233.657,-204.939 226.541,-195.451 219.691,-186.318\" fill=\"none\" stroke=\"black\"/>\n",
       "<polygon fill=\"black\" points=\"222.297,-183.958 213.497,-178.058 216.697,-188.159 222.297,-183.958\" stroke=\"black\"/>\n",
       "<text font-family=\"Helvetica,sans-Serif\" font-size=\"14.00\" text-anchor=\"middle\" x=\"209.961\" y=\"-198.607\">True</text>\n",
       "</g>\n",
       "<!-- 4 -->\n",
       "<g class=\"node\" id=\"node5\"><title>4</title>\n",
       "<path d=\"M417.087,-178C417.087,-178 290.819,-178 290.819,-178 284.819,-178 278.819,-172 278.819,-166 278.819,-166 278.819,-112 278.819,-112 278.819,-106 284.819,-100 290.819,-100 290.819,-100 417.087,-100 417.087,-100 423.087,-100 429.087,-106 429.087,-112 429.087,-112 429.087,-166 429.087,-166 429.087,-172 423.087,-178 417.087,-178\" fill=\"#e58139\" fill-opacity=\"0.831373\" stroke=\"black\"/>\n",
       "<text font-family=\"Helvetica,sans-Serif\" font-size=\"14.00\" text-anchor=\"middle\" x=\"353.953\" y=\"-162.8\">Biomarker 1 &lt;= 1.226</text>\n",
       "<text font-family=\"Helvetica,sans-Serif\" font-size=\"14.00\" text-anchor=\"middle\" x=\"353.953\" y=\"-148.8\">gini = 0.248</text>\n",
       "<text font-family=\"Helvetica,sans-Serif\" font-size=\"14.00\" text-anchor=\"middle\" x=\"353.953\" y=\"-134.8\">samples = 76</text>\n",
       "<text font-family=\"Helvetica,sans-Serif\" font-size=\"14.00\" text-anchor=\"middle\" x=\"353.953\" y=\"-120.8\">value = [65, 0, 11]</text>\n",
       "<text font-family=\"Helvetica,sans-Serif\" font-size=\"14.00\" text-anchor=\"middle\" x=\"353.953\" y=\"-106.8\">class = 1.0</text>\n",
       "</g>\n",
       "<!-- 0&#45;&gt;4 -->\n",
       "<g class=\"edge\" id=\"edge4\"><title>0-&gt;4</title>\n",
       "<path d=\"M297.968,-213.769C304.737,-204.849 312.017,-195.257 319.013,-186.038\" fill=\"none\" stroke=\"black\"/>\n",
       "<polygon fill=\"black\" points=\"321.812,-188.14 325.069,-178.058 316.236,-183.908 321.812,-188.14\" stroke=\"black\"/>\n",
       "<text font-family=\"Helvetica,sans-Serif\" font-size=\"14.00\" text-anchor=\"middle\" x=\"328.464\" y=\"-198.627\">False</text>\n",
       "</g>\n",
       "<!-- 2 -->\n",
       "<g class=\"node\" id=\"node3\"><title>2</title>\n",
       "<path d=\"M107.859,-64C107.859,-64 12.0468,-64 12.0468,-64 6.04684,-64 0.0468384,-58 0.0468384,-52 0.0468384,-52 0.0468384,-12 0.0468384,-12 0.0468384,-6 6.04684,-0 12.0468,-0 12.0468,-0 107.859,-0 107.859,-0 113.859,-0 119.859,-6 119.859,-12 119.859,-12 119.859,-52 119.859,-52 119.859,-58 113.859,-64 107.859,-64\" fill=\"#39e581\" fill-opacity=\"0.921569\" stroke=\"black\"/>\n",
       "<text font-family=\"Helvetica,sans-Serif\" font-size=\"14.00\" text-anchor=\"middle\" x=\"59.9531\" y=\"-48.8\">gini = 0.133</text>\n",
       "<text font-family=\"Helvetica,sans-Serif\" font-size=\"14.00\" text-anchor=\"middle\" x=\"59.9531\" y=\"-34.8\">samples = 14</text>\n",
       "<text font-family=\"Helvetica,sans-Serif\" font-size=\"14.00\" text-anchor=\"middle\" x=\"59.9531\" y=\"-20.8\">value = [1, 13, 0]</text>\n",
       "<text font-family=\"Helvetica,sans-Serif\" font-size=\"14.00\" text-anchor=\"middle\" x=\"59.9531\" y=\"-6.8\">class = 2.0</text>\n",
       "</g>\n",
       "<!-- 1&#45;&gt;2 -->\n",
       "<g class=\"edge\" id=\"edge2\"><title>1-&gt;2</title>\n",
       "<path d=\"M139.472,-99.7956C128.128,-90.2671 115.975,-80.0585 104.669,-70.5614\" fill=\"none\" stroke=\"black\"/>\n",
       "<polygon fill=\"black\" points=\"106.906,-67.8692 96.9974,-64.1172 102.403,-73.2291 106.906,-67.8692\" stroke=\"black\"/>\n",
       "</g>\n",
       "<!-- 3 -->\n",
       "<g class=\"node\" id=\"node4\"><title>3</title>\n",
       "<path d=\"M238.073,-64C238.073,-64 149.833,-64 149.833,-64 143.833,-64 137.833,-58 137.833,-52 137.833,-52 137.833,-12 137.833,-12 137.833,-6 143.833,-0 149.833,-0 149.833,-0 238.073,-0 238.073,-0 244.073,-0 250.073,-6 250.073,-12 250.073,-12 250.073,-52 250.073,-52 250.073,-58 244.073,-64 238.073,-64\" fill=\"#e58139\" fill-opacity=\"0.286275\" stroke=\"black\"/>\n",
       "<text font-family=\"Helvetica,sans-Serif\" font-size=\"14.00\" text-anchor=\"middle\" x=\"193.953\" y=\"-48.8\">gini = 0.486</text>\n",
       "<text font-family=\"Helvetica,sans-Serif\" font-size=\"14.00\" text-anchor=\"middle\" x=\"193.953\" y=\"-34.8\">samples = 12</text>\n",
       "<text font-family=\"Helvetica,sans-Serif\" font-size=\"14.00\" text-anchor=\"middle\" x=\"193.953\" y=\"-20.8\">value = [7, 5, 0]</text>\n",
       "<text font-family=\"Helvetica,sans-Serif\" font-size=\"14.00\" text-anchor=\"middle\" x=\"193.953\" y=\"-6.8\">class = 1.0</text>\n",
       "</g>\n",
       "<!-- 1&#45;&gt;3 -->\n",
       "<g class=\"edge\" id=\"edge3\"><title>1-&gt;3</title>\n",
       "<path d=\"M188.228,-99.7956C188.942,-91.4581 189.702,-82.6 190.426,-74.1534\" fill=\"none\" stroke=\"black\"/>\n",
       "<polygon fill=\"black\" points=\"193.919,-74.3796 191.286,-64.1172 186.945,-73.7817 193.919,-74.3796\" stroke=\"black\"/>\n",
       "</g>\n",
       "<!-- 5 -->\n",
       "<g class=\"node\" id=\"node6\"><title>5</title>\n",
       "<path d=\"M392.859,-64C392.859,-64 297.047,-64 297.047,-64 291.047,-64 285.047,-58 285.047,-52 285.047,-52 285.047,-12 285.047,-12 285.047,-6 291.047,-0 297.047,-0 297.047,-0 392.859,-0 392.859,-0 398.859,-0 404.859,-6 404.859,-12 404.859,-12 404.859,-52 404.859,-52 404.859,-58 398.859,-64 392.859,-64\" fill=\"#e58139\" fill-opacity=\"0.968627\" stroke=\"black\"/>\n",
       "<text font-family=\"Helvetica,sans-Serif\" font-size=\"14.00\" text-anchor=\"middle\" x=\"344.953\" y=\"-48.8\">gini = 0.058</text>\n",
       "<text font-family=\"Helvetica,sans-Serif\" font-size=\"14.00\" text-anchor=\"middle\" x=\"344.953\" y=\"-34.8\">samples = 67</text>\n",
       "<text font-family=\"Helvetica,sans-Serif\" font-size=\"14.00\" text-anchor=\"middle\" x=\"344.953\" y=\"-20.8\">value = [65, 0, 2]</text>\n",
       "<text font-family=\"Helvetica,sans-Serif\" font-size=\"14.00\" text-anchor=\"middle\" x=\"344.953\" y=\"-6.8\">class = 1.0</text>\n",
       "</g>\n",
       "<!-- 4&#45;&gt;5 -->\n",
       "<g class=\"edge\" id=\"edge5\"><title>4-&gt;5</title>\n",
       "<path d=\"M350.678,-99.7956C349.964,-91.4581 349.205,-82.6 348.481,-74.1534\" fill=\"none\" stroke=\"black\"/>\n",
       "<polygon fill=\"black\" points=\"351.962,-73.7817 347.62,-64.1172 344.987,-74.3796 351.962,-73.7817\" stroke=\"black\"/>\n",
       "</g>\n",
       "<!-- 6 -->\n",
       "<g class=\"node\" id=\"node7\"><title>6</title>\n",
       "<path d=\"M523.073,-64C523.073,-64 434.833,-64 434.833,-64 428.833,-64 422.833,-58 422.833,-52 422.833,-52 422.833,-12 422.833,-12 422.833,-6 428.833,-0 434.833,-0 434.833,-0 523.073,-0 523.073,-0 529.073,-0 535.073,-6 535.073,-12 535.073,-12 535.073,-52 535.073,-52 535.073,-58 529.073,-64 523.073,-64\" fill=\"#8139e5\" stroke=\"black\"/>\n",
       "<text font-family=\"Helvetica,sans-Serif\" font-size=\"14.00\" text-anchor=\"middle\" x=\"478.953\" y=\"-48.8\">gini = 0.0</text>\n",
       "<text font-family=\"Helvetica,sans-Serif\" font-size=\"14.00\" text-anchor=\"middle\" x=\"478.953\" y=\"-34.8\">samples = 9</text>\n",
       "<text font-family=\"Helvetica,sans-Serif\" font-size=\"14.00\" text-anchor=\"middle\" x=\"478.953\" y=\"-20.8\">value = [0, 0, 9]</text>\n",
       "<text font-family=\"Helvetica,sans-Serif\" font-size=\"14.00\" text-anchor=\"middle\" x=\"478.953\" y=\"-6.8\">class = 3.0</text>\n",
       "</g>\n",
       "<!-- 4&#45;&gt;6 -->\n",
       "<g class=\"edge\" id=\"edge6\"><title>4-&gt;6</title>\n",
       "<path d=\"M399.435,-99.7956C410.778,-90.2671 422.931,-80.0585 434.237,-70.5614\" fill=\"none\" stroke=\"black\"/>\n",
       "<polygon fill=\"black\" points=\"436.503,-73.2291 441.909,-64.1172 432.001,-67.8692 436.503,-73.2291\" stroke=\"black\"/>\n",
       "</g>\n",
       "</g>\n",
       "</svg>"
      ],
      "text/plain": [
       "<IPython.core.display.SVG object>"
      ]
     },
     "execution_count": 16,
     "metadata": {},
     "output_type": "execute_result"
    }
   ],
   "source": [
    "# Use the export_graphviz function in sklearn to generate \n",
    "# a visualization of the tree diagram for the fitted model. \n",
    "from IPython.display import SVG\n",
    "from graphviz import Source\n",
    "from sklearn import tree\n",
    "\n",
    "graph = Source(tree.export_graphviz(dtc_best_mod,\n",
    "                                    out_file      = None, \n",
    "                                    feature_names = Xtrain.columns,\n",
    "                                    class_names   = list(map(str, np.unique(list(ytrain)))),\n",
    "                                    filled        = True,\n",
    "                                    rounded       = True\n",
    "                                   ))\n",
    "SVG(graph.pipe(format='svg'))"
   ]
  },
  {
   "cell_type": "markdown",
   "metadata": {},
   "source": [
    "## Question 4: Too many models to choose from!\n",
    "\n",
    "We have so far seen six different ways of fitting a classification model for thyroid classification problem: **linear logistic regression**, **logistic regression with polynomial terms**, **LDA**, **QDA**, **k-NN** and **decision tree**. Which of these methods should one use in practice? To answer this question, we now look at the pros and cons of each method.\n",
    "\n",
    "1. Compare and contrast the six models based on each of the following criteria (a supporting table to summarize your  thoughts can be helpful):\n",
    "  - Classification performance\n",
    "  - Complexity of decision boundary\n",
    "  - Memory storage\n",
    "  - Ease of interpretability\n",
    "\n",
    "2. If you were a clinician who had to use the classifier to diagnose thyroid disorders in patients, which among the six methods would you be most comfortable in using? \n",
    "\n"
   ]
  },
  {
   "cell_type": "markdown",
   "metadata": {},
   "source": [
    "1. Compare and contrast the six models based on each of the following criteria (a supporting table to summarize your  thoughts can be helpful):\n",
    "  - Classification performance\n",
    "  - Complexity of decision boundary\n",
    "  - Memory storage\n",
    "  - Ease of interpretability\n",
    "  \n",
    "\n",
    "Classification Model|Classification performance|Complexity of decision boundary|Memory storage|Ease of interpretability\n",
    "    ---------------------------------------------------:|-------------:|-------------:|\n",
    "    Multinomial Logistic Regression|TBD|TBD|TBD|TBD|\n",
    "    one-vs-rest (OvR) logistic regression|TBD|TBD|TBD|TBD|\n",
    "    Multiclass Logistic Regression with quadratic terms|TBD|TBD|TBD|TBD|\n",
    "    Linear Discriminant Analysis|TBD|TBD|TBD|TBD|\n",
    "    Quadratic Discriminant Analysis|TBD|TBD|TBD|TBD|\n",
    "    k-Nearest Neighbors |TBD|TBD|TBD|TBD|\n",
    "    Decision Tree|TBD|TBD|TBD|Best|\n",
    "\n",
    "#### Q: If you were a clinician who had to use the classifier to diagnose thyroid disorders in patients, which among the six methods would you be most comfortable in using? \n",
    "\n",
    "Decision Tree Classifier - It yielded the best test accuracy **and** is the most interpretable."
   ]
  },
  {
   "cell_type": "markdown",
   "metadata": {},
   "source": [
    "## Question 5: Including an 'abstain' option\n",
    "\n",
    "One of the reasons a hospital might be hesitant to use your thyroid classification model is that a misdiagnosis by the model on a patient can sometimes prove to be very costly (e.g. if the patient were to file a law suit seeking a compensation for damages). One way to mitigate this concern is to allow the model to 'abstain' from making a prediction, whenever it is uncertain about the diagnosis for a patient. However, when the model abstains from making a prediction, the hospital will have to forward the patient to a thyroid specialist (i.e. an endocrinologist), which would incur additional cost. How does one design a thyroid classification model with an abstain option, such that the cost to the hospital is minimized?\n",
    "\n",
    "1. More specifically, suppose the cost incurred by a hospital when a model mis-predicts on a patient is \\$5000, and the cost incurred when the model abstains from making a prediction is \\$1000. What is the average cost per patient for the OvR logistic regression model from Question 1, Part 3? Note that this needs to be evaluated on the patients in the test set. Your task is to design a classification strategy (into the 3 groups plus the *abstain* group) that has as low cost as possible per patient.   Give a justification for your approach.\n",
    "\n",
    "2. **Presentation:** Prepare a set of 5 slides explaining your approach to the hospital management. Your presentation must be accessible to the lay man. Explain in particular how your approach would be robust to changes in the costs of using the abstain option.\n",
    "\n",
    "*Hint:* think of a way to use the estimated probabilities from the logistic regression model to decide who to classify as *abstain*."
   ]
  },
  {
   "cell_type": "code",
   "execution_count": null,
   "metadata": {
    "collapsed": true
   },
   "outputs": [],
   "source": []
  }
 ],
 "metadata": {
  "anaconda-cloud": {},
  "kernelspec": {
   "display_name": "Python 3",
   "language": "python",
   "name": "python3"
  },
  "language_info": {
   "codemirror_mode": {
    "name": "ipython",
    "version": 3
   },
   "file_extension": ".py",
   "mimetype": "text/x-python",
   "name": "python",
   "nbconvert_exporter": "python",
   "pygments_lexer": "ipython3",
   "version": "3.6.1"
  }
 },
 "nbformat": 4,
 "nbformat_minor": 1
}
